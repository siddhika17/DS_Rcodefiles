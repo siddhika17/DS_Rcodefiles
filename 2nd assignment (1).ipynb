{
 "cells": [
  {
   "cell_type": "code",
   "execution_count": 1,
   "id": "16f8251b-e158-4d71-ae6b-6e40b0edb1c1",
   "metadata": {},
   "outputs": [],
   "source": [
    "import numpy as np"
   ]
  },
  {
   "cell_type": "code",
   "execution_count": 2,
   "id": "3b16d0fd-e9a8-42ab-af01-11ded80399f5",
   "metadata": {},
   "outputs": [],
   "source": [
    "from scipy import stats"
   ]
  },
  {
   "cell_type": "code",
   "execution_count": 3,
   "id": "340ff495-b08a-40a1-a1cf-f7f692f6f71c",
   "metadata": {},
   "outputs": [],
   "source": [
    "# Given data\n",
    "durability = np.array([1.13, 1.55, 1.43, 0.92, 1.25, 1.36, 1.32, 0.85, 1.07, 1.48, 1.20, 1.33, 1.18, 1.22, 1.29])\n"
   ]
  },
  {
   "cell_type": "code",
   "execution_count": 4,
   "id": "c36a71be-3183-4bc6-9599-81b1d22116e6",
   "metadata": {},
   "outputs": [
    {
     "name": "stdout",
     "output_type": "stream",
     "text": [
      "Sample Mean: 1.2386666666666666\n"
     ]
    }
   ],
   "source": [
    "# Calculate sample mean\n",
    "sample_mean = np.mean(durability)\n",
    "print(\"Sample Mean:\", sample_mean)\n"
   ]
  },
  {
   "cell_type": "code",
   "execution_count": 5,
   "id": "6c420363-e960-48e9-baed-5fe2c40caf2e",
   "metadata": {},
   "outputs": [],
   "source": [
    "# Given population standard deviation\n",
    "population_std = 0.2"
   ]
  },
  {
   "cell_type": "code",
   "execution_count": 6,
   "id": "19e2fdfa-d3c4-46dc-b8f9-d8e410090f9b",
   "metadata": {},
   "outputs": [
    {
     "name": "stdout",
     "output_type": "stream",
     "text": [
      "Critical z-value: 2.5758293035489004\n"
     ]
    }
   ],
   "source": [
    "# Determine critical z-value\n",
    "critical_z = stats.norm.ppf(0.995)\n",
    "print(\"Critical z-value:\", critical_z)\n"
   ]
  },
  {
   "cell_type": "code",
   "execution_count": 7,
   "id": "478e9d0c-0c7f-4ebe-bdd5-f6ccfebfd58a",
   "metadata": {},
   "outputs": [
    {
     "name": "stdout",
     "output_type": "stream",
     "text": [
      "Margin of Error: 0.13301525327090588\n"
     ]
    }
   ],
   "source": [
    "# Calculate margin of error\n",
    "margin_of_error = critical_z * (population_std / np.sqrt(len(durability)))\n",
    "print(\"Margin of Error:\", margin_of_error)"
   ]
  },
  {
   "cell_type": "code",
   "execution_count": 8,
   "id": "b8ec5d02-008f-4356-9ae6-5fa22a51709f",
   "metadata": {},
   "outputs": [
    {
     "name": "stdout",
     "output_type": "stream",
     "text": [
      "99% Confidence Interval: (1.1056514133957607, 1.3716819199375725)\n"
     ]
    }
   ],
   "source": [
    "# Construct confidence interval\n",
    "confidence_interval = (sample_mean - margin_of_error, sample_mean + margin_of_error)\n",
    "print(\"99% Confidence Interval:\", confidence_interval)"
   ]
  },
  {
   "cell_type": "code",
   "execution_count": null,
   "id": "eac961de-b21a-4126-a1c0-f5134c58c1fb",
   "metadata": {},
   "outputs": [],
   "source": []
  }
 ],
 "metadata": {
  "kernelspec": {
   "display_name": "Python 3 (ipykernel)",
   "language": "python",
   "name": "python3"
  },
  "language_info": {
   "codemirror_mode": {
    "name": "ipython",
    "version": 3
   },
   "file_extension": ".py",
   "mimetype": "text/x-python",
   "name": "python",
   "nbconvert_exporter": "python",
   "pygments_lexer": "ipython3",
   "version": "3.12.4"
  }
 },
 "nbformat": 4,
 "nbformat_minor": 5
}
