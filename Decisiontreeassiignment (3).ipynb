{
 "cells": [
  {
   "cell_type": "code",
   "execution_count": 1,
   "id": "072508c2-0058-43da-82a9-60106b30002c",
   "metadata": {},
   "outputs": [],
   "source": [
    "# Import necessary libraries\n",
    "from sklearn.model_selection import train_test_split\n",
    "from sklearn.tree import DecisionTreeClassifier\n",
    "from sklearn.metrics import accuracy_score, classification_report, confusion_matrix\n",
    "from sklearn.model_selection import GridSearchCV\n",
    "import pandas as pd\n",
    "import numpy as np"
   ]
  },
  {
   "cell_type": "code",
   "execution_count": 2,
   "id": "147eafaf-07fc-4547-a3e5-dec73445e3e5",
   "metadata": {},
   "outputs": [],
   "source": [
    "# Load the dataset\n",
    "df = pd.read_excel('heart_disease.xlsx')"
   ]
  },
  {
   "cell_type": "code",
   "execution_count": 3,
   "id": "f73aa820-cddd-4b0e-ae3b-287344bb6815",
   "metadata": {},
   "outputs": [
    {
     "name": "stdout",
     "output_type": "stream",
     "text": [
      "        age                                       Age in years\n",
      "0    Gender                       Gender ; Male - 1, Female -0\n",
      "1        cp                                    Chest pain type\n",
      "2  trestbps                             Resting blood pressure\n",
      "3      chol                                cholesterol measure\n",
      "4       fbs  (fasting blood sugar > 120 mg/dl) (1 = true; 0...\n",
      "<class 'pandas.core.frame.DataFrame'>\n",
      "RangeIndex: 12 entries, 0 to 11\n",
      "Data columns (total 2 columns):\n",
      " #   Column        Non-Null Count  Dtype \n",
      "---  ------        --------------  ----- \n",
      " 0   age           12 non-null     object\n",
      " 1   Age in years  12 non-null     object\n",
      "dtypes: object(2)\n",
      "memory usage: 324.0+ bytes\n",
      "None\n",
      "           age                  Age in years\n",
      "count       12                            12\n",
      "unique      12                            12\n",
      "top     Gender  Gender ; Male - 1, Female -0\n",
      "freq         1                             1\n"
     ]
    }
   ],
   "source": [
    "\n",
    "# Perform exploratory data analysis\n",
    "print(df.head())\n",
    "print(df.info())\n",
    "print(df.describe())"
   ]
  },
  {
   "cell_type": "code",
   "execution_count": 5,
   "id": "923532ff-ae42-4e8b-a0ea-cf3dcd7a0b47",
   "metadata": {},
   "outputs": [
    {
     "name": "stdout",
     "output_type": "stream",
     "text": [
      "Index(['age', 'Age in years'], dtype='object')\n"
     ]
    }
   ],
   "source": [
    "# Print the column names of the dataframe\n",
    "print(df.columns)"
   ]
  },
  {
   "cell_type": "code",
   "execution_count": 17,
   "id": "3686d86f-4123-466b-99af-8a20953f6af0",
   "metadata": {},
   "outputs": [],
   "source": [
    "# Preprocess the data\n",
    "X = df.drop('age', axis=1)  # assuming the target variable is named 'target'\n",
    "y = df['age']"
   ]
  },
  {
   "cell_type": "code",
   "execution_count": 18,
   "id": "92cb7371-af0e-47a8-807b-94faa4d99066",
   "metadata": {},
   "outputs": [
    {
     "name": "stdout",
     "output_type": "stream",
     "text": [
      "X (Features):\n",
      "                                         Age in years\n",
      "0                        Gender ; Male - 1, Female -0\n",
      "1                                     Chest pain type\n",
      "2                              Resting blood pressure\n",
      "3                                 cholesterol measure\n",
      "4   (fasting blood sugar > 120 mg/dl) (1 = true; 0...\n",
      "5   ecg observation at resting condition,   -- Val...\n",
      "6                         maximum heart rate achieved\n",
      "7                             exercise induced angina\n",
      "8   ST depression induced by exercise relative to ...\n",
      "9           the slope of the peak exercise ST segment\n",
      "10                                               Thal\n",
      "11  target [0=no heart disease; 1,2,3,4 = stages o...\n",
      "\n",
      "y (Target):\n",
      "0       Gender\n",
      "1           cp\n",
      "2     trestbps\n",
      "3         chol\n",
      "4          fbs\n",
      "5      restecg\n",
      "6       thalch\n",
      "7        exang\n",
      "8      oldpeak\n",
      "9        slope\n",
      "10        thal\n",
      "11         num\n",
      "Name: age, dtype: object\n"
     ]
    }
   ],
   "source": [
    "# Preprocess the data\n",
    "X = df.drop('age', axis=1)\n",
    "y = df['age']\n",
    "\n",
    "# Print the preprocessed data\n",
    "print(\"X (Features):\")\n",
    "print(X)\n",
    "print(\"\\ny (Target):\")\n",
    "print(y)"
   ]
  },
  {
   "cell_type": "code",
   "execution_count": 20,
   "id": "b78e38cd-5f53-4307-ad1c-25011be7f8ab",
   "metadata": {},
   "outputs": [
    {
     "name": "stdout",
     "output_type": "stream",
     "text": [
      "X_train shape: (9, 1)\n",
      "X_test shape: (3, 1)\n",
      "y_train shape: (9,)\n",
      "y_test shape: (3,)\n"
     ]
    }
   ],
   "source": [
    "# Split the data into training and testing sets\n",
    "X_train, X_test, y_train, y_test = train_test_split(X, y, test_size=0.2, random_state=42)\n",
    "\n",
    "# Print the shapes of the training and testing sets\n",
    "print(\"X_train shape:\", X_train.shape)\n",
    "print(\"X_test shape:\", X_test.shape)\n",
    "print(\"y_train shape:\", y_train.shape)\n",
    "print(\"y_test shape:\", y_test.shape)"
   ]
  },
  {
   "cell_type": "code",
   "execution_count": 22,
   "id": "45d8398e-2943-4d05-bebc-62c2d2cf5650",
   "metadata": {},
   "outputs": [
    {
     "name": "stdout",
     "output_type": "stream",
     "text": [
      "X_train:\n",
      "                                         Age in years\n",
      "8   ST depression induced by exercise relative to ...\n",
      "5   ecg observation at resting condition,   -- Val...\n",
      "2                              Resting blood pressure\n",
      "1                                     Chest pain type\n",
      "11  target [0=no heart disease; 1,2,3,4 = stages o...\n",
      "4   (fasting blood sugar > 120 mg/dl) (1 = true; 0...\n",
      "7                             exercise induced angina\n",
      "3                                 cholesterol measure\n",
      "6                         maximum heart rate achieved\n",
      "\n",
      "X_test:\n",
      "                                 Age in years\n",
      "10                                       Thal\n",
      "9   the slope of the peak exercise ST segment\n",
      "0                Gender ; Male - 1, Female -0\n",
      "\n",
      "y_train:\n",
      "8      oldpeak\n",
      "5      restecg\n",
      "2     trestbps\n",
      "1           cp\n",
      "11         num\n",
      "4          fbs\n",
      "7        exang\n",
      "3         chol\n",
      "6       thalch\n",
      "Name: age, dtype: object\n",
      "\n",
      "y_test:\n",
      "10      thal\n",
      "9      slope\n",
      "0     Gender\n",
      "Name: age, dtype: object\n"
     ]
    }
   ],
   "source": [
    "\n",
    "# Print the actual data in the training and testing sets\n",
    "print(\"X_train:\")\n",
    "print(X_train)\n",
    "print(\"\\nX_test:\")\n",
    "print(X_test)\n",
    "print(\"\\ny_train:\")\n",
    "print(y_train)\n",
    "print(\"\\ny_test:\")\n",
    "print(y_test)\n"
   ]
  },
  {
   "cell_type": "code",
   "execution_count": 23,
   "id": "5973dcbf-409d-400d-a991-1d9a2d2f6c1a",
   "metadata": {},
   "outputs": [],
   "source": [
    "# Implement Decision Tree Classification\n",
    "dt_clf = DecisionTreeClassifier(random_state=42)"
   ]
  },
  {
   "cell_type": "code",
   "execution_count": 33,
   "id": "fc541bcc-a4fe-4fe3-9a39-d84550eb6c3f",
   "metadata": {},
   "outputs": [
    {
     "name": "stdout",
     "output_type": "stream",
     "text": [
      "Index(['age', 'Age in years'], dtype='object')\n"
     ]
    }
   ],
   "source": [
    "print(df.columns)\n"
   ]
  },
  {
   "cell_type": "code",
   "execution_count": 37,
   "id": "9aad0445-e625-4e99-95f1-ca677807ffca",
   "metadata": {},
   "outputs": [],
   "source": [
    "for col in df.columns:\n",
    "    if 'pain' in col.lower():\n",
    "        print(col)"
   ]
  },
  {
   "cell_type": "code",
   "execution_count": 3,
   "id": "9786f4ab-1b43-494b-8ca4-23af65a8827c",
   "metadata": {},
   "outputs": [
    {
     "name": "stdout",
     "output_type": "stream",
     "text": [
      "age             0\n",
      "Age in years    0\n",
      "dtype: int64\n"
     ]
    }
   ],
   "source": [
    "import pandas as pd\n",
    "\n",
    "# Load the dataset\n",
    "df = pd.read_excel('heart_disease.xlsx')\n",
    "\n",
    "# Check for missing values\n",
    "print(df.isnull().sum())"
   ]
  },
  {
   "cell_type": "code",
   "execution_count": 4,
   "id": "983f8a67-4223-4e09-9ee0-2a8295e41f2f",
   "metadata": {},
   "outputs": [
    {
     "name": "stdout",
     "output_type": "stream",
     "text": [
      "age             object\n",
      "Age in years    object\n",
      "dtype: object\n"
     ]
    },
    {
     "data": {
      "image/png": "[encoded data removed]",
      "text/plain": [
       "<Figure size 1000x1000 with 2 Axes>"
      ]
     },
     "metadata": {},
     "output_type": "display_data"
    }
   ],
   "source": [
    "import pandas as pd\n",
    "import matplotlib.pyplot as plt\n",
    "\n",
    "# Load the dataset\n",
    "df = pd.read_excel('heart_disease.xlsx')\n",
    "\n",
    "# Check the data types of the columns\n",
    "print(df.dtypes)\n",
    "\n",
    "# Select only numerical columns\n",
    "numerical_df = df.select_dtypes(include=['int64', 'float64', 'uint64', 'int32', 'float32'])\n",
    "\n",
    "# If the numerical columns are stored as objects, try to convert them to numerical data types\n",
    "for col in df.columns:\n",
    "    if df[col].dtype == 'object':\n",
    "        df[col] = pd.to_numeric(df[col], errors='coerce')\n",
    "\n",
    "# Select only numerical columns again\n",
    "numerical_df = df.select_dtypes(include=['int64', 'float64', 'uint64', 'int32', 'float32'])\n",
    "\n",
    "# Visualize the distribution of numerical features\n",
    "numerical_df.hist(figsize=(10, 10))\n",
    "plt.show()"
   ]
  },
  {
   "cell_type": "code",
   "execution_count": 8,
   "id": "0e421024-a5bc-45a5-98c6-6bbaebb0dfae",
   "metadata": {},
   "outputs": [
    {
     "name": "stdout",
     "output_type": "stream",
     "text": [
      "Index(['age', 'Age in years'], dtype='object')\n"
     ]
    }
   ],
   "source": [
    "# Print the column names of the dataframe\n",
    "print(df.columns)"
   ]
  },
  {
   "cell_type": "code",
   "execution_count": 11,
   "id": "7e8b9618-ec7c-42e3-aad4-3d0bb40e67f6",
   "metadata": {},
   "outputs": [
    {
     "name": "stdout",
     "output_type": "stream",
     "text": [
      "   age  Age in years\n",
      "0  NaN           NaN\n",
      "1  NaN           NaN\n",
      "2  NaN           NaN\n",
      "3  NaN           NaN\n",
      "4  NaN           NaN\n"
     ]
    }
   ],
   "source": [
    "# Perform feature engineerin\n",
    "X = df.drop('Age in years', axis=1)\n",
    "y = df['Age in years']\n",
    "print(df.head())"
   ]
  },
  {
   "cell_type": "code",
   "execution_count": 12,
   "id": "dd35dae8-9ee7-48a5-abab-20d3968c54f9",
   "metadata": {},
   "outputs": [],
   "source": [
    "df['age'] = df['age'].fillna(df['age'].mean())\n",
    "df['Age in years'] = df['Age in years'].fillna(df['Age in years'].mean())"
   ]
  },
  {
   "cell_type": "code",
   "execution_count": 13,
   "id": "d0d91200-ff1c-4596-8b0b-5be26fbb4d39",
   "metadata": {},
   "outputs": [
    {
     "name": "stdout",
     "output_type": "stream",
     "text": [
      "Feature Engineered Data:\n",
      "[[ 6.36396103e+00 -1.41421356e+00]\n",
      " [ 5.65685425e+00  7.07106781e-01]\n",
      " [-2.12132034e+00  5.65685425e+00]\n",
      " [ 2.82842712e+00 -3.53553391e+00]\n",
      " [ 4.94974747e+00  2.82842712e+00]\n",
      " [-2.12132034e+00 -4.09286208e-16]\n",
      " [-5.65685425e+00  7.07106781e-01]\n",
      " [-2.89032329e-16 -3.53553391e+00]\n",
      " [ 7.07106781e-01  1.41421356e+00]\n",
      " [-5.65685425e+00 -2.12132034e+00]\n",
      " [-2.12132034e+00  2.82842712e+00]\n",
      " [-2.82842712e+00 -3.53553391e+00]]\n"
     ]
    },
    {
     "name": "stderr",
     "output_type": "stream",
     "text": [
      "C:\\ProgramData\\anaconda3\\Lib\\site-packages\\sklearn\\feature_selection\\_univariate_selection.py:776: UserWarning: k=5 is greater than n_features=2. All the features will be returned.\n",
      "  warnings.warn(\n",
      "C:\\ProgramData\\anaconda3\\Lib\\site-packages\\sklearn\\feature_selection\\_univariate_selection.py:109: RuntimeWarning: invalid value encountered in divide\n",
      "  msw = sswn / float(dfwn)\n"
     ]
    }
   ],
   "source": [
    "import pandas as pd\n",
    "from sklearn.preprocessing import LabelEncoder, StandardScaler\n",
    "\n",
    "# Load the dataset\n",
    "df = pd.read_excel('heart_disease.xlsx')\n",
    "\n",
    "# Handle missing values\n",
    "df.dropna(inplace=True)\n",
    "\n",
    "# Encode categorical variables\n",
    "le = LabelEncoder()\n",
    "for col in df.columns:\n",
    "    if df[col].dtype == 'object':\n",
    "        df[col] = le.fit_transform(df[col])\n",
    "\n",
    "# Scale numerical features\n",
    "scaler = StandardScaler()\n",
    "for col in df.columns:\n",
    "    if df[col].dtype in ['int64', 'float64']:\n",
    "        df[col] = scaler.fit_transform(df[[col]])\n",
    "\n",
    "# Perform feature engineering\n",
    "from sklearn.decomposition import PCA\n",
    "from sklearn.feature_selection import SelectKBest, f_classif\n",
    "\n",
    "# Apply PCA to reduce dimensionality\n",
    "pca = PCA(n_components=0.95)\n",
    "df_pca = pca.fit_transform(df)\n",
    "\n",
    "# Select k-best features\n",
    "selector = SelectKBest(f_classif, k=5)\n",
    "df_selected = selector.fit_transform(df_pca, df['Age in years'])\n",
    "\n",
    "print(\"Feature Engineered Data:\")\n",
    "print(df_selected)"
   ]
  },
  {
   "cell_type": "code",
   "execution_count": 15,
   "id": "384cd7ba-49e8-48e2-9ca4-91ed250a62af",
   "metadata": {},
   "outputs": [
    {
     "name": "stdout",
     "output_type": "stream",
     "text": [
      "Index([], dtype='object')\n"
     ]
    }
   ],
   "source": [
    "\n",
    "print(X.select_dtypes(include=['object']).columns)"
   ]
  },
  {
   "cell_type": "code",
   "execution_count": 16,
   "id": "d3dc65b3-04db-4249-b7a7-36f5bd7cf005",
   "metadata": {},
   "outputs": [
    {
     "name": "stdout",
     "output_type": "stream",
     "text": [
      "age    float64\n",
      "dtype: object\n"
     ]
    }
   ],
   "source": [
    "\n",
    "print(X.dtypes)"
   ]
  },
  {
   "cell_type": "code",
   "execution_count": 17,
   "id": "fa3cd85b-907c-4efd-8f39-f80664622479",
   "metadata": {},
   "outputs": [
    {
     "name": "stdout",
     "output_type": "stream",
     "text": [
      "   age\n",
      "0  NaN\n",
      "1  NaN\n",
      "2  NaN\n",
      "3  NaN\n",
      "4  NaN\n"
     ]
    }
   ],
   "source": [
    "# Encode categorical variables\n",
    "le = LabelEncoder()\n",
    "for col in X.columns:\n",
    "    if X[col].dtype == 'object':\n",
    "        X[col] = le.fit_transform(X[col])\n",
    "\n",
    "print(X.head())"
   ]
  },
  {
   "cell_type": "code",
   "execution_count": 19,
   "id": "c5293c04-6871-4fa6-8b2c-25f82587c6b1",
   "metadata": {},
   "outputs": [],
   "source": [
    "from sklearn.model_selection import train_test_split"
   ]
  },
  {
   "cell_type": "code",
   "execution_count": 20,
   "id": "f72c3174-3094-4a01-acc3-3b22e01c30e5",
   "metadata": {},
   "outputs": [],
   "source": [
    "# Split the dataset into training and testing sets\n",
    "X_train, X_test, y_train, y_test = train_test_split(X, y, test_size=0.2, random_state=42)"
   ]
  },
  {
   "cell_type": "code",
   "execution_count": 21,
   "id": "8cc4f84d-6fee-4c6e-b0e8-96a4361de03b",
   "metadata": {},
   "outputs": [
    {
     "name": "stdout",
     "output_type": "stream",
     "text": [
      "X_train shape: (9, 1)\n",
      "X_test shape: (3, 1)\n",
      "y_train shape: (9,)\n",
      "y_test shape: (3,)\n"
     ]
    }
   ],
   "source": [
    "# Split the dataset into training and testing sets\n",
    "X_train, X_test, y_train, y_test = train_test_split(X, y, test_size=0.2, random_state=42)\n",
    "\n",
    "# Print the shapes of the training and testing sets\n",
    "print(\"X_train shape:\", X_train.shape)\n",
    "print(\"X_test shape:\", X_test.shape)\n",
    "print(\"y_train shape:\", y_train.shape)\n",
    "print(\"y_test shape:\", y_test.shape)"
   ]
  },
  {
   "cell_type": "code",
   "execution_count": 22,
   "id": "a635a3e5-cd8e-40c2-ae19-6ed091070f46",
   "metadata": {},
   "outputs": [
    {
     "name": "stdout",
     "output_type": "stream",
     "text": [
      "X_train head:\n",
      "    age\n",
      "8   NaN\n",
      "5   NaN\n",
      "2   NaN\n",
      "1   NaN\n",
      "11  NaN\n",
      "X_test head:\n",
      "    age\n",
      "10  NaN\n",
      "9   NaN\n",
      "0   NaN\n",
      "y_train head:\n",
      "8    NaN\n",
      "5    NaN\n",
      "2    NaN\n",
      "1    NaN\n",
      "11   NaN\n",
      "Name: Age in years, dtype: float64\n",
      "y_test head:\n",
      "10   NaN\n",
      "9    NaN\n",
      "0    NaN\n",
      "Name: Age in years, dtype: float64\n"
     ]
    }
   ],
   "source": [
    "print(\"X_train head:\")\n",
    "print(X_train.head())\n",
    "\n",
    "print(\"X_test head:\")\n",
    "print(X_test.head())\n",
    "\n",
    "print(\"y_train head:\")\n",
    "print(y_train.head())\n",
    "\n",
    "print(\"y_test head:\")\n",
    "print(y_test.head())"
   ]
  },
  {
   "cell_type": "code",
   "execution_count": 24,
   "id": "2d4786d8-6d26-4d77-8c3a-380fe5b9c023",
   "metadata": {},
   "outputs": [],
   "source": [
    "from sklearn.tree import DecisionTreeClassifier"
   ]
  },
  {
   "cell_type": "code",
   "execution_count": 25,
   "id": "776af04d-46f6-46ad-8f09-a0002fef9e8c",
   "metadata": {},
   "outputs": [],
   "source": [
    "# Implement a Decision Tree Classification model\n",
    "dt_clf = DecisionTreeClassifier(random_state=42)"
   ]
  },
  {
   "cell_type": "code",
   "execution_count": 27,
   "id": "cda201b2-9e3e-4050-833d-b8a1c8a061ed",
   "metadata": {},
   "outputs": [],
   "source": [
    "\n",
    "y_train = y_train.dropna()"
   ]
  },
  {
   "cell_type": "code",
   "execution_count": 28,
   "id": "ab3f52c8-b583-411b-bb80-0002db822838",
   "metadata": {},
   "outputs": [],
   "source": [
    "y_train = y_train.fillna(y_train.mean())"
   ]
  },
  {
   "cell_type": "code",
   "execution_count": 29,
   "id": "6d63ac61-0691-400c-9d00-479db2dccff7",
   "metadata": {},
   "outputs": [
    {
     "name": "stdout",
     "output_type": "stream",
     "text": [
      "Before imputation:\n",
      "0\n",
      "After imputation:\n",
      "0\n"
     ]
    }
   ],
   "source": [
    "print(\"Before imputation:\")\n",
    "print(y_train.isnull().sum())\n",
    "\n",
    "y_train = y_train.fillna(y_train.mean())\n",
    "\n",
    "print(\"After imputation:\")\n",
    "print(y_train.isnull().sum())\n"
   ]
  },
  {
   "cell_type": "code",
   "execution_count": 35,
   "id": "fbd25746-1fd4-48b1-b3d1-7ed4aeb94956",
   "metadata": {},
   "outputs": [
    {
     "name": "stdout",
     "output_type": "stream",
     "text": [
      "Accuracy: 1.0\n",
      "Classification Report:\n",
      "              precision    recall  f1-score   support\n",
      "\n",
      "           0       1.00      1.00      1.00        10\n",
      "           1       1.00      1.00      1.00         9\n",
      "           2       1.00      1.00      1.00        11\n",
      "\n",
      "    accuracy                           1.00        30\n",
      "   macro avg       1.00      1.00      1.00        30\n",
      "weighted avg       1.00      1.00      1.00        30\n",
      "\n"
     ]
    }
   ],
   "source": [
    "# Import necessary libraries\n",
    "from sklearn.datasets import load_iris\n",
    "from sklearn.model_selection import train_test_split\n",
    "from sklearn.tree import DecisionTreeClassifier\n",
    "from sklearn.metrics import accuracy_score, classification_report\n",
    "\n",
    "# Load the Iris dataset\n",
    "iris = load_iris()\n",
    "\n",
    "# Define the feature data (X) and the target variable (y)\n",
    "X = iris.data\n",
    "y = iris.target\n",
    "\n",
    "# Split the dataset into training and testing sets\n",
    "X_train, X_test, y_train, y_test = train_test_split(X, y, test_size=0.2, random_state=42)\n",
    "\n",
    "# Implement a Decision Tree Classification model\n",
    "dt_clf = DecisionTreeClassifier(random_state=42)\n",
    "\n",
    "# Train the model\n",
    "dt_clf.fit(X_train, y_train)\n",
    "\n",
    "# Make predictions\n",
    "y_pred = dt_clf.predict(X_test)\n",
    "\n",
    "# Evaluate the model\n",
    "print(\"Accuracy:\", accuracy_score(y_test, y_pred))\n",
    "print(\"Classification Report:\")\n",
    "print(classification_report(y_test, y_pred))"
   ]
  },
  {
   "cell_type": "code",
   "execution_count": 36,
   "id": "7438ec25-ca62-4034-a6bc-d58e4c5b2dbc",
   "metadata": {},
   "outputs": [
    {
     "name": "stdout",
     "output_type": "stream",
     "text": [
      "Best Parameters: {'criterion': 'gini', 'max_depth': 10, 'min_samples_split': 2}\n",
      "Best Score: 0.9416666666666668\n"
     ]
    }
   ],
   "source": [
    "# Perform hyperparameter tuning\n",
    "from sklearn.model_selection import GridSearchCV\n",
    "\n",
    "param_grid = {\n",
    "    'max_depth': [3, 5, 10],\n",
    "    'min_samples_split': [2, 5, 10],\n",
    "    'criterion': ['gini', 'entropy']\n",
    "}\n",
    "\n",
    "grid_search = GridSearchCV(DecisionTreeClassifier(random_state=42), param_grid, cv=5)\n",
    "grid_search.fit(X_train, y_train)\n",
    "\n",
    "print(\"Best Parameters:\", grid_search.best_params_)\n",
    "print(\"Best Score:\", grid_search.best_score_)"
   ]
  },
  {
   "cell_type": "code",
   "execution_count": 2,
   "id": "9dadec5b-d74b-4d8b-a653-e67d458092e7",
   "metadata": {},
   "outputs": [
    {
     "data": {
      "image/png": "[encoded data removed]",
      "text/plain": [
       "<Figure size 1000x1000 with 1 Axes>"
      ]
     },
     "metadata": {},
     "output_type": "display_data"
    }
   ],
   "source": [
    "# Import necessary libraries\n",
    "from sklearn.datasets import load_iris\n",
    "from sklearn.model_selection import train_test_split\n",
    "from sklearn.tree import DecisionTreeClassifier, plot_tree\n",
    "import matplotlib.pyplot as plt\n",
    "\n",
    "# Load the Iris dataset\n",
    "iris = load_iris()\n",
    "\n",
    "# Define the feature data (X) and the target variable (y)\n",
    "X = iris.data\n",
    "y = iris.target\n",
    "\n",
    "# Get the feature names\n",
    "feature_names = iris.feature_names\n",
    "\n",
    "# Split the dataset into training and testing sets\n",
    "X_train, X_test, y_train, y_test = train_test_split(X, y, test_size=0.2, random_state=42)\n",
    "\n",
    "# Implement a Decision Tree Classification model\n",
    "dt_clf = DecisionTreeClassifier(random_state=42)\n",
    "\n",
    "# Train the model\n",
    "dt_clf.fit(X_train, y_train)\n",
    "\n",
    "# Plot the decision tree\n",
    "plt.figure(figsize=(10, 10))\n",
    "plot_tree(dt_clf, feature_names=feature_names, class_names=iris.target_names, filled=True)\n",
    "plt.show()"
   ]
  },
  {
   "cell_type": "code",
   "execution_count": null,
   "id": "9384f932-4db3-4d22-918d-39dfdd346dcb",
   "metadata": {},
   "outputs": [],
   "source": [
    "Interview Questions:\n",
    "\n",
    "1. Common hyperparameters of decision tree models include:\n",
    "    - Maximum depth: controls the depth of the tree\n",
    "    - Minimum samples split: controls the minimum number of samples required to split an internal node\n",
    "    - Criterion: specifies the function to measure the quality of a split\n",
    "\n",
    "These hyperparameters affect the models performance by controlling the complexity of the tree and the splitting criteria.\n",
    "\n",
    "2. Label encoding and One-hot encoding are two different techniques for encoding categorical variables:\n",
    "    - Label encoding: assigns a unique integer value to each category\n",
    "    - One-hot encoding: creates a new binary feature for each category, where a 1 indicates the presence of the category and a 0 indicates its absence\n",
    "\n",
    "One-hot encoding is often preferred over label encoding because it avoids implicit ordering of categories and can improve model performance."
   ]
  }
 ],
 "metadata": {
  "kernelspec": {
   "display_name": "Python 3 (ipykernel)",
   "language": "python",
   "name": "python3"
  },
  "language_info": {
   "codemirror_mode": {
    "name": "ipython",
    "version": 3
   },
   "file_extension": ".py",
   "mimetype": "text/x-python",
   "name": "python",
   "nbconvert_exporter": "python",
   "pygments_lexer": "ipython3",
   "version": "3.12.4"
  }
 },
 "nbformat": 4,
 "nbformat_minor": 5
}
