{
 "cells": [
  {
   "cell_type": "code",
   "execution_count": 20,
   "id": "1b140d1d-d4da-4d15-9503-09b290535414",
   "metadata": {},
   "outputs": [],
   "source": [
    "# Import necessary libraries\n",
    "import pandas as pd\n",
    "from mlxtend.frequent_patterns import apriori\n",
    "from mlxtend.frequent_patterns import association_rules\n"
   ]
  },
  {
   "cell_type": "code",
   "execution_count": 27,
   "id": "85356627-39a8-4592-a237-f13b70f75134",
   "metadata": {},
   "outputs": [
    {
     "name": "stdout",
     "output_type": "stream",
     "text": [
      "Defaulting to user installation because normal site-packages is not writeable\n",
      "Requirement already satisfied: openpyxl in c:\\users\\adhil\\appdata\\roaming\\python\\python312\\site-packages (3.1.5)\n",
      "Requirement already satisfied: et-xmlfile in c:\\programdata\\anaconda3\\lib\\site-packages (from openpyxl) (1.1.0)\n"
     ]
    }
   ],
   "source": [
    "!pip install --upgrade openpyxl"
   ]
  },
  {
   "cell_type": "code",
   "execution_count": 9,
   "id": "a3f69606-a05f-4246-92f8-e363d65d35ea",
   "metadata": {},
   "outputs": [],
   "source": [
    "# Load the Online Retail dataset\n",
    "import pandas as pd\n",
    "\n",
    "data = pd.read_excel('Online Retail.xlsx')"
   ]
  },
  {
   "cell_type": "code",
   "execution_count": 23,
   "id": "056a8051-b32c-48fc-aafb-e48214120b37",
   "metadata": {},
   "outputs": [],
   "source": [
    "import warnings\n",
    "warnings.simplefilter(action='ignore', category=DeprecationWarning)\n"
   ]
  },
  {
   "cell_type": "code",
   "execution_count": 24,
   "id": "7650ff42-81f4-4002-b446-0d629469debc",
   "metadata": {},
   "outputs": [],
   "source": [
    "# Load the Online Retail dataset\n",
    "data = pd.read_excel('Online Retail.xlsx')"
   ]
  },
  {
   "cell_type": "code",
   "execution_count": 29,
   "id": "371efa2a-96da-4594-af2c-d0c00d27a9fb",
   "metadata": {},
   "outputs": [
    {
     "name": "stdout",
     "output_type": "stream",
     "text": [
      "Index(['shrimp,almonds,avocado,vegetables mix,green grapes,whole weat flour,yams,cottage cheese,energy drink,tomato juice,low fat yogurt,green tea,honey,salad,mineral water,salmon,antioxydant juice,frozen smoothie,spinach,olive oil'], dtype='object')\n"
     ]
    }
   ],
   "source": [
    "\n",
    "print(data.columns)\n"
   ]
  },
  {
   "cell_type": "code",
   "execution_count": 12,
   "id": "76865b94-71d8-497e-ac22-e331403ffa29",
   "metadata": {},
   "outputs": [],
   "source": [
    "# Rename the column\n",
    "data.columns = ['Grocery_List']"
   ]
  },
  {
   "cell_type": "code",
   "execution_count": 10,
   "id": "cbc004f1-87a2-4beb-a8b1-ad5df1c73150",
   "metadata": {},
   "outputs": [
    {
     "name": "stdout",
     "output_type": "stream",
     "text": [
      "  shrimp,almonds,avocado,vegetables mix,green grapes,whole weat flour,yams,cottage cheese,energy drink,tomato juice,low fat yogurt,green tea,honey,salad,mineral water,salmon,antioxydant juice,frozen smoothie,spinach,olive oil\n",
      "0                             burgers,meatballs,eggs                                                                                                                                                                             \n",
      "1                                            chutney                                                                                                                                                                             \n",
      "2                                     turkey,avocado                                                                                                                                                                             \n",
      "3  mineral water,milk,energy bar,whole wheat rice...                                                                                                                                                                             \n",
      "4                                     low fat yogurt                                                                                                                                                                             \n"
     ]
    }
   ],
   "source": [
    "# Check if data is loaded correctly\n",
    "print(data.head())"
   ]
  },
  {
   "cell_type": "code",
   "execution_count": 14,
   "id": "597e7198-97a0-4485-bb66-5b82f2d3a859",
   "metadata": {},
   "outputs": [],
   "source": [
    "\n",
    "# Drop rows with missing values\n",
    "data.dropna(inplace=True)\n"
   ]
  },
  {
   "cell_type": "code",
   "execution_count": 15,
   "id": "0607a1cb-4592-4eac-8c2e-c1ecd4dbceb0",
   "metadata": {},
   "outputs": [
    {
     "name": "stdout",
     "output_type": "stream",
     "text": [
      "Before dropping rows: 7500\n",
      "After dropping rows: 7500\n"
     ]
    }
   ],
   "source": [
    "print(\"Before dropping rows:\", len(data))\n",
    "data.dropna(inplace=True)\n",
    "print(\"After dropping rows:\", len(data))"
   ]
  },
  {
   "cell_type": "code",
   "execution_count": 16,
   "id": "c3f6653a-b897-4020-a53e-1660e5a54947",
   "metadata": {},
   "outputs": [
    {
     "name": "stdout",
     "output_type": "stream",
     "text": [
      "Number of duplicate rows: 2325\n"
     ]
    }
   ],
   "source": [
    "print(\"Number of duplicate rows:\", data.duplicated().sum())"
   ]
  },
  {
   "cell_type": "code",
   "execution_count": 17,
   "id": "3b886533-afcd-4a1d-9842-d9fa3b61a593",
   "metadata": {},
   "outputs": [],
   "source": [
    "# Remove duplicates\n",
    "data.drop_duplicates(inplace=True)\n"
   ]
  },
  {
   "cell_type": "code",
   "execution_count": 18,
   "id": "65b96f6d-f53a-48cb-86b3-09c68a3e4d3f",
   "metadata": {},
   "outputs": [
    {
     "name": "stdout",
     "output_type": "stream",
     "text": [
      "Before removing duplicates: 5175\n",
      "After removing duplicates: 5175\n"
     ]
    }
   ],
   "source": [
    "print(\"Before removing duplicates:\", len(data))\n",
    "data.drop_duplicates(inplace=True)\n",
    "print(\"After removing duplicates:\", len(data))"
   ]
  },
  {
   "cell_type": "code",
   "execution_count": 19,
   "id": "6febb4e5-6528-44a2-8a99-1eb33445b381",
   "metadata": {},
   "outputs": [
    {
     "name": "stdout",
     "output_type": "stream",
     "text": [
      "Number of duplicate rows: 0\n"
     ]
    }
   ],
   "source": [
    "print(\"Number of duplicate rows:\", data.duplicated().sum())\n"
   ]
  },
  {
   "cell_type": "code",
   "execution_count": 21,
   "id": "be461682-85ea-4311-b159-27af45440e6d",
   "metadata": {},
   "outputs": [],
   "source": [
    "\n",
    "# Convert the first column to lowercase\n",
    "data.iloc[:, 0] = data.iloc[:, 0].str.lower()\n"
   ]
  },
  {
   "cell_type": "code",
   "execution_count": 22,
   "id": "768b03b2-777b-45eb-a2b6-e0ca9c956954",
   "metadata": {},
   "outputs": [
    {
     "name": "stdout",
     "output_type": "stream",
     "text": [
      "object\n"
     ]
    }
   ],
   "source": [
    "print(data.iloc[:, 0].dtype)\n"
   ]
  },
  {
   "cell_type": "code",
   "execution_count": 23,
   "id": "9c34cd32-9c7c-4468-96f8-690751246b1a",
   "metadata": {},
   "outputs": [],
   "source": [
    "data.iloc[:, 0] = data.iloc[:, 0].astype(str).str.lower()\n",
    "\n"
   ]
  },
  {
   "cell_type": "code",
   "execution_count": 24,
   "id": "e1c4191b-ddd5-4450-9fbe-129927d910ab",
   "metadata": {},
   "outputs": [
    {
     "name": "stdout",
     "output_type": "stream",
     "text": [
      "0\n"
     ]
    }
   ],
   "source": [
    "\n",
    "print(data.iloc[:, 0].isnull().sum())\n"
   ]
  },
  {
   "cell_type": "code",
   "execution_count": 25,
   "id": "90e7c747-fa07-4f18-8fbf-fca6bde6074b",
   "metadata": {},
   "outputs": [],
   "source": [
    "data.iloc[:, 0] = data.iloc[:, 0].apply(lambda x: str(x).lower())"
   ]
  },
  {
   "cell_type": "code",
   "execution_count": 27,
   "id": "84f36ab0-9ea1-4749-9ef3-f9aa3bf20370",
   "metadata": {},
   "outputs": [
    {
     "name": "stdout",
     "output_type": "stream",
     "text": [
      "Index(['Grocery_List'], dtype='object')\n"
     ]
    }
   ],
   "source": [
    "print(data.columns)"
   ]
  },
  {
   "cell_type": "code",
   "execution_count": 31,
   "id": "caa00edc-9b66-45eb-932f-97c78553eb62",
   "metadata": {},
   "outputs": [
    {
     "name": "stdout",
     "output_type": "stream",
     "text": [
      "['burgers' 'meatballs' 'eggs' 'chutney' 'turkey' 'avocado' 'mineral water'\n",
      " 'milk' 'energy bar' 'whole wheat rice' 'green tea' 'low fat yogurt'\n",
      " 'whole wheat pasta' 'french fries' 'soup' 'light cream' 'shallot'\n",
      " 'frozen vegetables' 'spaghetti' 'pet food' 'cookies' 'cooking oil'\n",
      " 'champagne' 'salmon' 'shrimp' 'chocolate' 'chicken' 'honey' 'oil'\n",
      " 'fresh tuna' 'tomatoes' 'black tea' 'extra dark chocolate' 'protein bar'\n",
      " 'red wine' 'pasta' 'pepper' 'shampoo' 'rice' 'sparkling water' 'ham'\n",
      " 'body spray' 'pancakes' 'grated cheese' 'white wine' 'toothpaste'\n",
      " 'parmesan cheese' 'fresh bread' 'ground beef' 'frozen smoothie'\n",
      " 'escalope' 'yams' 'herb & pepper' 'tomato sauce' 'magazines'\n",
      " 'strawberries' 'strong cheese' 'pickles' 'cake' 'cottage cheese'\n",
      " 'hot dogs' 'brownies' 'cereals' 'clothes accessories' 'bug spray'\n",
      " 'muffins' 'light mayo' 'olive oil' 'gums' 'soda' 'energy drink' 'cider'\n",
      " 'corn' 'yogurt cake' 'mint' 'butter' 'asparagus' 'salad' 'french wine'\n",
      " 'salt' 'almonds' 'tea' 'barbecue sauce' 'mayonnaise' 'zucchini' 'carrots'\n",
      " 'green grapes' 'mushroom cream sauce' 'tomato juice' 'candy bars'\n",
      " 'antioxydant juice' 'chili' 'mashed potato' 'nonfat milk' 'water spray'\n",
      " 'vegetables mix' 'chocolate bread' 'mint green tea' 'eggplant'\n",
      " 'blueberries' 'bacon' 'spinach' 'fromage blanc' 'gluten free bar'\n",
      " 'dessert wine' 'flax seed' 'hand protein bar' 'sandwich' 'babies food'\n",
      " 'melons' 'cauliflower' 'green beans' 'ketchup' 'bramble' 'burger sauce'\n",
      " 'oatmeal' 'cream' 'napkins' 'whole weat flour']\n"
     ]
    }
   ],
   "source": [
    "import pandas as pd\n",
    "\n",
    "# Assuming data is your DataFrame\n",
    "data = pd.read_excel('Online Retail.xlsx')\n",
    "\n",
    "# Create a new DataFrame with a single column\n",
    "data = pd.DataFrame(data.iloc[:, 0].str.split(','))\n",
    "\n",
    "# Rename the column\n",
    "data.columns = ['Items']\n",
    "\n",
    "# Explode the list of items into separate rows\n",
    "data = data.explode('Items')\n",
    "\n",
    "# Remove leading/trailing whitespaces\n",
    "data['Items'] = data['Items'].str.strip()\n",
    "\n",
    "# Create a basket of unique items\n",
    "basket = data['Items'].unique()\n",
    "\n",
    "print(basket)\n"
   ]
  },
  {
   "cell_type": "code",
   "execution_count": 34,
   "id": "200f2cc6-9328-47e6-99b8-3c75d755ddf5",
   "metadata": {},
   "outputs": [
    {
     "name": "stdout",
     "output_type": "stream",
     "text": [
      "['burgers' 'meatballs' 'eggs' 'chutney' 'turkey' 'avocado' 'mineral water'\n",
      " 'milk' 'energy bar' 'whole wheat rice' 'green tea' 'low fat yogurt'\n",
      " 'whole wheat pasta' 'french fries' 'soup' 'light cream' 'shallot'\n",
      " 'frozen vegetables' 'spaghetti' 'pet food' 'cookies' 'cooking oil'\n",
      " 'champagne' 'salmon' 'shrimp' 'chocolate' 'chicken' 'honey' 'oil'\n",
      " 'fresh tuna' 'tomatoes' 'black tea' 'extra dark chocolate' 'protein bar'\n",
      " 'red wine' 'pasta' 'pepper' 'shampoo' 'rice' 'sparkling water' 'ham'\n",
      " 'body spray' 'pancakes' 'grated cheese' 'white wine' 'toothpaste'\n",
      " 'parmesan cheese' 'fresh bread' 'ground beef' 'frozen smoothie'\n",
      " 'escalope' 'yams' 'herb & pepper' 'tomato sauce' 'magazines'\n",
      " 'strawberries' 'strong cheese' 'pickles' 'cake' 'cottage cheese'\n",
      " 'hot dogs' 'brownies' 'cereals' 'clothes accessories' 'bug spray'\n",
      " 'muffins' 'light mayo' 'olive oil' 'gums' 'soda' 'energy drink' 'cider'\n",
      " 'corn' 'yogurt cake' 'mint' 'butter' 'asparagus' 'salad' 'french wine'\n",
      " 'salt' 'almonds' 'tea' 'barbecue sauce' 'mayonnaise' 'zucchini' 'carrots'\n",
      " 'green grapes' 'mushroom cream sauce' 'tomato juice' 'candy bars'\n",
      " 'antioxydant juice' 'chili' 'mashed potato' 'nonfat milk' 'water spray'\n",
      " 'vegetables mix' 'chocolate bread' 'mint green tea' 'eggplant'\n",
      " 'blueberries' 'bacon' 'spinach' 'fromage blanc' 'gluten free bar'\n",
      " 'dessert wine' 'flax seed' 'hand protein bar' 'sandwich' 'babies food'\n",
      " 'melons' 'cauliflower' 'green beans' 'ketchup' 'bramble' 'burger sauce'\n",
      " 'oatmeal' 'cream' 'napkins' 'whole weat flour']\n"
     ]
    }
   ],
   "source": [
    "import pandas as pd\n",
    "\n",
    "# Assuming data is your DataFrame\n",
    "data = pd.read_excel('Online Retail.xlsx')\n",
    "\n",
    "# Create a new DataFrame with a single column\n",
    "data = pd.DataFrame(data.iloc[:, 0].str.split(','))\n",
    "\n",
    "# Since data is a DataFrame with a single column, let's rename it to 'Items'\n",
    "data.columns = ['Items']\n",
    "\n",
    "# Explode the list of items into separate rows\n",
    "data = data.explode('Items')\n",
    "\n",
    "# Remove leading/trailing whitespaces\n",
    "data['Items'] = data['Items'].str.strip()\n",
    "\n",
    "# Create a basket of unique items\n",
    "basket = data['Items'].unique()\n",
    "\n",
    "print(basket)"
   ]
  },
  {
   "cell_type": "code",
   "execution_count": 36,
   "id": "d97df385-2223-4d05-9d81-6b47e728d0bd",
   "metadata": {},
   "outputs": [
    {
     "name": "stdout",
     "output_type": "stream",
     "text": [
      "     shrimp,almonds,avocado,vegetables mix,green grapes,whole weat flour,yams,cottage cheese,energy drink,tomato juice,low fat yogurt,green tea,honey,salad,mineral water,salmon,antioxydant juice,frozen smoothie,spinach,olive oil  \\\n",
      "0                                burgers,meatballs,eggs                                                                                                                                                                                \n",
      "1                                               chutney                                                                                                                                                                                \n",
      "2                                        turkey,avocado                                                                                                                                                                                \n",
      "3     mineral water,milk,energy bar,whole wheat rice...                                                                                                                                                                                \n",
      "4                                        low fat yogurt                                                                                                                                                                                \n",
      "...                                                 ...                                                                                                                                                                                \n",
      "7495                      butter,light mayo,fresh bread                                                                                                                                                                                \n",
      "7496  burgers,frozen vegetables,eggs,french fries,ma...                                                                                                                                                                                \n",
      "7497                                            chicken                                                                                                                                                                                \n",
      "7498                                 escalope,green tea                                                                                                                                                                                \n",
      "7499    eggs,frozen smoothie,yogurt cake,low fat yogurt                                                                                                                                                                                \n",
      "\n",
      "                                                   Item  \n",
      "0                                burgers,meatballs,eggs  \n",
      "1                                               chutney  \n",
      "2                                        turkey,avocado  \n",
      "3     mineral water,milk,energy bar,whole wheat rice...  \n",
      "4                                        low fat yogurt  \n",
      "...                                                 ...  \n",
      "7495                      butter,light mayo,fresh bread  \n",
      "7496  burgers,frozen vegetables,eggs,french fries,ma...  \n",
      "7497                                            chicken  \n",
      "7498                                 escalope,green tea  \n",
      "7499    eggs,frozen smoothie,yogurt cake,low fat yogurt  \n",
      "\n",
      "[7500 rows x 2 columns]\n"
     ]
    }
   ],
   "source": [
    "import pandas as pd\n",
    "\n",
    "# Load the data\n",
    "data = pd.read_excel('Online Retail.xlsx')\n",
    "\n",
    "# Create a new column 'Item' which is a copy of the first column\n",
    "data['Item'] = data.iloc[:, 0]\n",
    "\n",
    "# Print the output\n",
    "print(data)\n"
   ]
  },
  {
   "cell_type": "code",
   "execution_count": 37,
   "id": "f71a8023-74ff-4fa5-9962-281eaf99c37a",
   "metadata": {},
   "outputs": [
    {
     "name": "stdout",
     "output_type": "stream",
     "text": [
      "  shrimp,almonds,avocado,vegetables mix,green grapes,whole weat flour,yams,cottage cheese,energy drink,tomato juice,low fat yogurt,green tea,honey,salad,mineral water,salmon,antioxydant juice,frozen smoothie,spinach,olive oil  \\\n",
      "0                             burgers,meatballs,eggs                                                                                                                                                                                \n",
      "1                                            chutney                                                                                                                                                                                \n",
      "2                                     turkey,avocado                                                                                                                                                                                \n",
      "3  mineral water,milk,energy bar,whole wheat rice...                                                                                                                                                                                \n",
      "4                                     low fat yogurt                                                                                                                                                                                \n",
      "\n",
      "                                                Item  \n",
      "0                             burgers,meatballs,eggs  \n",
      "1                                            chutney  \n",
      "2                                     turkey,avocado  \n",
      "3  mineral water,milk,energy bar,whole wheat rice...  \n",
      "4                                     low fat yogurt  \n"
     ]
    }
   ],
   "source": [
    "print(data.head())\n"
   ]
  },
  {
   "cell_type": "code",
   "execution_count": null,
   "id": "207bdd32-ea8e-4348-86c8-e7d35f10433c",
   "metadata": {},
   "outputs": [],
   "source": [
    "Interview Questions\n",
    "\n",
    "1. What is lift and why is it important in Association rules?\n",
    "\n",
    "Lift is a measure of the strength of the association between two items. It is calculated as the ratio of the confidence of the rule to the expected confidence if the two items were independent. Lift is important in Association rules because it helps to identify rules that are more likely to be useful and interesting.\n",
    "\n",
    "\n",
    "2. What is support and Confidence. How do you calculate them?\n",
    "\n",
    "Support is the proportion of transactions in the dataset that contain both the antecedent and the consequent of the rule. Confidence is the proportion of transactions that contain the antecedent and also contain the consequent.\n",
    "\n",
    "Support is calculated as:\n",
    "\n",
    "Support(A -> C) = (Number of transactions containing both A and C) / (Total number of transactions)\n",
    "\n",
    "Confidence is calculated as:\n",
    "\n",
    "Confidence(A -> C) = (Number of transactions containing both A and C) / (Number of transactions containing A)\n",
    "\n",
    "\n",
    "3. What are some limitations or challenges of Association rules mining?\n",
    "\n",
    "Some limitations or challenges of Association rules mining include:\n",
    "\n",
    "- Handling large datasets: Association rules mining can be computationally expensive and may require significant resources to handle large datasets.\n",
    "- Dealing with noise and missing values: Noisy or missing data can affect the accuracy of the association rules.\n",
    "- Identifying meaningful rules: With a large number of possible rules, it can be challenging to identify the most meaningful and useful rules.\n",
    "- Overfitting: Association rules mining can be prone to overfitting, especially when dealing with large datasets."
   ]
  }
 ],
 "metadata": {
  "kernelspec": {
   "display_name": "Python 3 (ipykernel)",
   "language": "python",
   "name": "python3"
  },
  "language_info": {
   "codemirror_mode": {
    "name": "ipython",
    "version": 3
   },
   "file_extension": ".py",
   "mimetype": "text/x-python",
   "name": "python",
   "nbconvert_exporter": "python",
   "pygments_lexer": "ipython3",
   "version": "3.12.4"
  }
 },
 "nbformat": 4,
 "nbformat_minor": 5
}
