{
 "cells": [
  {
   "cell_type": "code",
   "execution_count": 1,
   "id": "26f54e09-0514-481c-be3e-0516f7f4867b",
   "metadata": {},
   "outputs": [],
   "source": [
    "import numpy as np\n",
    "from scipy.stats import chi2"
   ]
  },
  {
   "cell_type": "code",
   "execution_count": 2,
   "id": "7d046833-e18f-4cdb-87c1-128ce94f37f9",
   "metadata": {},
   "outputs": [],
   "source": [
    "# Contingency table\n",
    "data = np.array([[50, 70], [80, 100], [60, 90], [30, 50], [20, 50]])\n"
   ]
  },
  {
   "cell_type": "code",
   "execution_count": 3,
   "id": "641918e4-674b-476d-a42c-ebcfb6e21d35",
   "metadata": {},
   "outputs": [
    {
     "name": "stdout",
     "output_type": "stream",
     "text": [
      "H0: There is no significant association between the type of smart home device purchased and the customer satisfaction level.\n",
      "H1: There is a significant association between the type of smart home device purchased and the customer satisfaction level.\n"
     ]
    }
   ],
   "source": [
    "# State the hypotheses\n",
    "print(\"H0: There is no significant association between the type of smart home device purchased and the customer satisfaction level.\")\n",
    "print(\"H1: There is a significant association between the type of smart home device purchased and the customer satisfaction level.\")\n",
    "\n"
   ]
  },
  {
   "cell_type": "code",
   "execution_count": 5,
   "id": "fdf6995f-a313-4867-b777-feef3a25ed95",
   "metadata": {},
   "outputs": [],
   "source": [
    "# Compute the Chi-Square statistic\n",
    "row_sums = np.sum(data, axis=1)\n",
    "col_sums = np.sum(data, axis=0)\n",
    "total_sum = np.sum(data)"
   ]
  },
  {
   "cell_type": "code",
   "execution_count": 6,
   "id": "1fdc7481-1833-455e-9598-5c6ef258727e",
   "metadata": {},
   "outputs": [
    {
     "name": "stdout",
     "output_type": "stream",
     "text": [
      "Chi-Square statistic: 5.638227513227513\n"
     ]
    }
   ],
   "source": [
    "expected_frequencies = np.outer(row_sums, col_sums) / total_sum\n",
    "chi_square_statistic = np.sum((data - expected_frequencies) ** 2 / expected_frequencies)\n",
    "print(\"Chi-Square statistic:\", chi_square_statistic)"
   ]
  },
  {
   "cell_type": "code",
   "execution_count": 7,
   "id": "bee1b178-10f7-4f30-a172-0786a6191d70",
   "metadata": {},
   "outputs": [
    {
     "name": "stdout",
     "output_type": "stream",
     "text": [
      "Critical value: 9.487729036781154\n"
     ]
    }
   ],
   "source": [
    "# Determine the critical value\n",
    "degrees_of_freedom = (data.shape[0] - 1) * (data.shape[1] - 1)\n",
    "alpha = 0.05\n",
    "critical_value = chi2.ppf(1 - alpha, degrees_of_freedom)\n",
    "print(\"Critical value:\", critical_value)"
   ]
  },
  {
   "cell_type": "code",
   "execution_count": 8,
   "id": "08afc7f2-bc2e-43a2-925e-a18a4e7806f3",
   "metadata": {},
   "outputs": [],
   "source": [
    "# Make a decision\n",
    "if chi_square_statistic > critical_value:\n",
    "    print(\"Reject the null hypothesis. There is a significant association between the type of smart home device purchased and the customer satisfaction level.\")\n"
   ]
  },
  {
   "cell_type": "code",
   "execution_count": 9,
   "id": "bcdcbec7-0fde-4196-868f-6ea230a2dd92",
   "metadata": {},
   "outputs": [
    {
     "name": "stdout",
     "output_type": "stream",
     "text": [
      "Fail to reject the null hypothesis. There is no significant association between the type of smart home device purchased and the customer satisfaction level.\n"
     ]
    }
   ],
   "source": [
    "print(\"Fail to reject the null hypothesis. There is no significant association between the type of smart home device purchased and the customer satisfaction level.\")\n",
    "\n"
   ]
  },
  {
   "cell_type": "code",
   "execution_count": null,
   "id": "4cfca69b-19a9-4e88-8a95-637ef0611be9",
   "metadata": {},
   "outputs": [],
   "source": []
  }
 ],
 "metadata": {
  "kernelspec": {
   "display_name": "Python 3 (ipykernel)",
   "language": "python",
   "name": "python3"
  },
  "language_info": {
   "codemirror_mode": {
    "name": "ipython",
    "version": 3
   },
   "file_extension": ".py",
   "mimetype": "text/x-python",
   "name": "python",
   "nbconvert_exporter": "python",
   "pygments_lexer": "ipython3",
   "version": "3.12.4"
  }
 },
 "nbformat": 4,
 "nbformat_minor": 5
}
