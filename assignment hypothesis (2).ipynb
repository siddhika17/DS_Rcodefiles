{
 "cells": [
  {
   "cell_type": "code",
   "execution_count": 12,
   "id": "7f370d53-1011-4f2f-b3ae-bdb139a09f03",
   "metadata": {},
   "outputs": [],
   "source": [
    "import numpy as np\n",
    "import scipy.stats as stats"
   ]
  },
  {
   "cell_type": "code",
   "execution_count": 13,
   "id": "c9e08d7a-475e-44a5-82ed-f7a251130a82",
   "metadata": {},
   "outputs": [],
   "source": [
    "data = np.array([[50, 70],   # Very Satisfied\n",
    "                 [80, 100],  # Satisfied\n",
    "                 [60, 90],   # Neutral\n",
    "                 [30, 50],   # Unsatisfied\n",
    "                 [20, 50]])  # Very Unsatisfied"
   ]
  },
  {
   "cell_type": "code",
   "execution_count": 14,
   "id": "b0a021f2-4487-4928-9f17-401053bef2a8",
   "metadata": {},
   "outputs": [],
   "source": [
    "chi2_stat, p_value ,dof,expected=stats.chi2_contingency(data)"
   ]
  },
  {
   "cell_type": "code",
   "execution_count": 15,
   "id": "2d53619c-e32d-4e2a-a0e8-bed8a909b111",
   "metadata": {},
   "outputs": [
    {
     "name": "stdout",
     "output_type": "stream",
     "text": [
      "Chi-Square Statistic: 5.638227513227513\n",
      "P-value: 0.22784371130697179\n",
      "Degrees of Freedom: 4\n",
      "Expected Frequencies:\n",
      "[[ 48.  72.]\n",
      " [ 72. 108.]\n",
      " [ 60.  90.]\n",
      " [ 32.  48.]\n",
      " [ 28.  42.]]\n"
     ]
    }
   ],
   "source": [
    "print(f\"Chi-Square Statistic: {chi2_stat}\")\n",
    "print(f\"P-value: {p_value}\")\n",
    "print(f\"Degrees of Freedom: {dof}\")\n",
    "print(f\"Expected Frequencies:\\n{expected}\")"
   ]
  },
  {
   "cell_type": "code",
   "execution_count": 16,
   "id": "47cf08c1-8b1a-41ca-bbc5-bf3ab81f215d",
   "metadata": {},
   "outputs": [
    {
     "name": "stdout",
     "output_type": "stream",
     "text": [
      "Critical Value at alpha 0.05: 9.487729036781154\n"
     ]
    }
   ],
   "source": [
    "alpha = 0.05\n",
    "critical_value = stats.chi2.ppf(1 - alpha, dof)\n",
    "\n",
    "print(f\"Critical Value at alpha {alpha}: {critical_value}\")"
   ]
  },
  {
   "cell_type": "code",
   "execution_count": 17,
   "id": "e33aa580-ca2d-4d4e-a620-af98a2fc65ea",
   "metadata": {},
   "outputs": [],
   "source": [
    "if chi2_stat > critical_value:\n",
    "    decision = \"Reject the null hypothesis.\"\n",
    "else:\n",
    "    decision = \"Fail to reject the null hypothesis.\"\n"
   ]
  },
  {
   "cell_type": "code",
   "execution_count": 18,
   "id": "255c5910-89c5-4d03-a958-a425bd08b5d0",
   "metadata": {},
   "outputs": [
    {
     "name": "stdout",
     "output_type": "stream",
     "text": [
      "Decision: Fail to reject the null hypothesis.\n"
     ]
    }
   ],
   "source": [
    "print(f\"Decision: {decision}\")"
   ]
  },
  {
   "cell_type": "code",
   "execution_count": 19,
   "id": "467ee1a3-fe33-471a-8d00-027bed928a46",
   "metadata": {},
   "outputs": [
    {
     "name": "stdout",
     "output_type": "stream",
     "text": [
      "Conclusion: There is no significant association between the type of smart home device purchased and the customer satisfaction level.\n"
     ]
    }
   ],
   "source": [
    "print(f\"Conclusion: {conclusion}\")"
   ]
  },
  {
   "cell_type": "code",
   "execution_count": 20,
   "id": "e3104bb8-aff9-446d-93cf-52e44ab1d39c",
   "metadata": {},
   "outputs": [
    {
     "name": "stdout",
     "output_type": "stream",
     "text": [
      "Conclusion: There is no significant association between the type of smart home device purchased and the customer satisfaction level.\n"
     ]
    }
   ],
   "source": [
    "if decision == \"Reject the null hypothesis.\":\n",
    "    conclusion = \"There is a significant association between the type of smart home device purchased and the customer satisfaction level.\"\n",
    "else:\n",
    "    conclusion = \"There is no significant association between the type of smart home device purchased and the customer satisfaction level.\"\n",
    "\n",
    "print(f\"Conclusion: {conclusion}\")"
   ]
  },
  {
   "cell_type": "code",
   "execution_count": 21,
   "id": "5c4aa380-6bb2-4f27-8b87-fe7824966dde",
   "metadata": {},
   "outputs": [
    {
     "name": "stdout",
     "output_type": "stream",
     "text": [
      "Conclusion: There is no significant association between the type of smart home device purchased and the customer satisfaction level.\n"
     ]
    }
   ],
   "source": [
    "print(f\"Conclusion: {conclusion}\")"
   ]
  },
  {
   "cell_type": "code",
   "execution_count": null,
   "id": "f9bb8d7c-03c3-4796-ad12-6850d2ea8c5f",
   "metadata": {},
   "outputs": [],
   "source": []
  }
 ],
 "metadata": {
  "kernelspec": {
   "display_name": "Python 3 (ipykernel)",
   "language": "python",
   "name": "python3"
  },
  "language_info": {
   "codemirror_mode": {
    "name": "ipython",
    "version": 3
   },
   "file_extension": ".py",
   "mimetype": "text/x-python",
   "name": "python",
   "nbconvert_exporter": "python",
   "pygments_lexer": "ipython3",
   "version": "3.12.4"
  }
 },
 "nbformat": 4,
 "nbformat_minor": 5
}
