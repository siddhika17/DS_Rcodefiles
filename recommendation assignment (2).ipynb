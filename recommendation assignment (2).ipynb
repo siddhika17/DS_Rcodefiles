{
 "cells": [
  {
   "cell_type": "code",
   "execution_count": 1,
   "id": "33705853-8077-4789-933f-6e5e2e739b18",
   "metadata": {},
   "outputs": [],
   "source": [
    "import pandas as pd\n",
    "from sklearn.feature_extraction.text import TfidfVectorizer\n",
    "from sklearn.metrics.pairwise import cosine_similarity\n",
    "from sklearn.model_selection import train_test_split\n",
    "from sklearn.metrics import precision_score, recall_score, f1_score"
   ]
  },
  {
   "cell_type": "code",
   "execution_count": 2,
   "id": "4f891a15-bd36-4580-9674-bbda76fdff13",
   "metadata": {},
   "outputs": [],
   "source": [
    "# Load the dataset\n",
    "df = pd.read_csv('anime.csv')"
   ]
  },
  {
   "cell_type": "code",
   "execution_count": 3,
   "id": "912eade3-6589-4b16-844d-288b9718e942",
   "metadata": {},
   "outputs": [],
   "source": [
    "\n",
    "# Drop any rows with missing values\n",
    "df.dropna(inplace=True)"
   ]
  },
  {
   "cell_type": "code",
   "execution_count": 4,
   "id": "eb27bf2d-7c6f-48c7-9e4a-92eba1a1442e",
   "metadata": {},
   "outputs": [
    {
     "name": "stdout",
     "output_type": "stream",
     "text": [
      "Before dropping rows: (12017, 7)\n",
      "After dropping rows: (12017, 7)\n"
     ]
    }
   ],
   "source": [
    "# Print the shape of the DataFrame before dropping rows\n",
    "print(\"Before dropping rows:\", df.shape)\n",
    "\n",
    "# Drop any rows with missing values\n",
    "df.dropna(inplace=True)\n",
    "\n",
    "# Print the shape of the DataFrame after dropping rows\n",
    "print(\"After dropping rows:\", df.shape)\n"
   ]
  },
  {
   "cell_type": "code",
   "execution_count": 5,
   "id": "6270c9b9-511c-405b-99d3-993a4fe8eaba",
   "metadata": {},
   "outputs": [],
   "source": [
    "# Define features to use for recommendation\n",
    "features = ['genre', 'type', 'rating']"
   ]
  },
  {
   "cell_type": "code",
   "execution_count": 6,
   "id": "4c35879f-454d-49b4-95fb-f17e0b75cddd",
   "metadata": {},
   "outputs": [
    {
     "name": "stdout",
     "output_type": "stream",
     "text": [
      "['genre', 'type', 'rating']\n"
     ]
    }
   ],
   "source": [
    "\n",
    "# Print the list of features\n",
    "print(features)"
   ]
  },
  {
   "cell_type": "code",
   "execution_count": 7,
   "id": "4573ffb2-eaab-4af3-a649-bea2b8f846ff",
   "metadata": {},
   "outputs": [],
   "source": [
    "# Create a TF-IDF vectorizer for genre and type\n",
    "vectorizer = TfidfVectorizer()"
   ]
  },
  {
   "cell_type": "code",
   "execution_count": 8,
   "id": "bc9872a6-19a3-43a6-9130-181dcfdabcd9",
   "metadata": {},
   "outputs": [
    {
     "name": "stdout",
     "output_type": "stream",
     "text": [
      "(12017, 52)\n"
     ]
    }
   ],
   "source": [
    "# Fit the vectorizer to the genre and type columns and transform the data\n",
    "genre_type_vectors = vectorizer.fit_transform(df['genre'] + ' ' + df['type'])\n",
    "\n",
    "# Print the shape of the resulting matrix\n",
    "print(genre_type_vectors.shape)"
   ]
  },
  {
   "cell_type": "code",
   "execution_count": 11,
   "id": "1c61aa77-5372-414a-95bd-9a427521ceb8",
   "metadata": {},
   "outputs": [
    {
     "name": "stdout",
     "output_type": "stream",
     "text": [
      "       anime_id                                               name  \\\n",
      "0         32281                                     Kimi no Na wa.   \n",
      "1          5114                   Fullmetal Alchemist: Brotherhood   \n",
      "2         28977                                           Gintama°   \n",
      "3          9253                                        Steins;Gate   \n",
      "4          9969                                      Gintama&#039;   \n",
      "...         ...                                                ...   \n",
      "12289      9316       Toushindai My Lover: Minami tai Mecha-Minami   \n",
      "12290      5543                                        Under World   \n",
      "12291      5621                     Violence Gekiga David no Hoshi   \n",
      "12292      6133  Violence Gekiga Shin David no Hoshi: Inma Dens...   \n",
      "12293     26081                   Yasuji no Pornorama: Yacchimae!!   \n",
      "\n",
      "                                                   genre   type episodes  \\\n",
      "0                   Drama, Romance, School, Supernatural  Movie        1   \n",
      "1      Action, Adventure, Drama, Fantasy, Magic, Mili...     TV       64   \n",
      "2      Action, Comedy, Historical, Parody, Samurai, S...     TV       51   \n",
      "3                                       Sci-Fi, Thriller     TV       24   \n",
      "4      Action, Comedy, Historical, Parody, Samurai, S...     TV       51   \n",
      "...                                                  ...    ...      ...   \n",
      "12289                                             Hentai    OVA        1   \n",
      "12290                                             Hentai    OVA        1   \n",
      "12291                                             Hentai    OVA        4   \n",
      "12292                                             Hentai    OVA        1   \n",
      "12293                                             Hentai  Movie        1   \n",
      "\n",
      "       rating  members  \n",
      "0       0.937   200630  \n",
      "1       0.926   793665  \n",
      "2       0.925   114262  \n",
      "3       0.917   673572  \n",
      "4       0.916   151266  \n",
      "...       ...      ...  \n",
      "12289   0.415      211  \n",
      "12290   0.428      183  \n",
      "12291   0.488      219  \n",
      "12292   0.498      175  \n",
      "12293   0.546      142  \n",
      "\n",
      "[12017 rows x 7 columns]\n"
     ]
    }
   ],
   "source": [
    "# Normalize the rating column\n",
    "df['rating'] = df['rating'] / df['rating'].max()\n",
    "print(df)"
   ]
  },
  {
   "cell_type": "code",
   "execution_count": 15,
   "id": "3344df69-4fe4-4ab4-a14f-fc7fb6ff41cf",
   "metadata": {},
   "outputs": [
    {
     "name": "stdout",
     "output_type": "stream",
     "text": [
      "             0         1    2    3    4         5    6    7         8    9  \\\n",
      "0      0.00000  0.000000  0.0  0.0  0.0  0.000000  0.0  0.0  0.405026  0.0   \n",
      "1      0.28540  0.306009  0.0  0.0  0.0  0.000000  0.0  0.0  0.324302  0.0   \n",
      "2      0.24559  0.000000  0.0  0.0  0.0  0.195601  0.0  0.0  0.000000  0.0   \n",
      "3      0.00000  0.000000  0.0  0.0  0.0  0.000000  0.0  0.0  0.000000  0.0   \n",
      "4      0.24559  0.000000  0.0  0.0  0.0  0.195601  0.0  0.0  0.000000  0.0   \n",
      "...        ...       ...  ...  ...  ...       ...  ...  ...       ...  ...   \n",
      "12289      NaN       NaN  NaN  NaN  NaN       NaN  NaN  NaN       NaN  NaN   \n",
      "12290      NaN       NaN  NaN  NaN  NaN       NaN  NaN  NaN       NaN  NaN   \n",
      "12291      NaN       NaN  NaN  NaN  NaN       NaN  NaN  NaN       NaN  NaN   \n",
      "12292      NaN       NaN  NaN  NaN  NaN       NaN  NaN  NaN       NaN  NaN   \n",
      "12293      NaN       NaN  NaN  NaN  NaN       NaN  NaN  NaN       NaN  NaN   \n",
      "\n",
      "       ...   43   44   45       46        47        48   49   50   51  rating  \n",
      "0      ...  0.0  0.0  0.0  0.50325  0.000000  0.000000  0.0  0.0  0.0   0.937  \n",
      "1      ...  0.0  0.0  0.0  0.00000  0.000000  0.252854  0.0  0.0  0.0   0.926  \n",
      "2      ...  0.0  0.0  0.0  0.00000  0.000000  0.217584  0.0  0.0  0.0   0.925  \n",
      "3      ...  0.0  0.0  0.0  0.00000  0.797012  0.293958  0.0  0.0  0.0   0.917  \n",
      "4      ...  0.0  0.0  0.0  0.00000  0.000000  0.217584  0.0  0.0  0.0   0.916  \n",
      "...    ...  ...  ...  ...      ...       ...       ...  ...  ...  ...     ...  \n",
      "12289  ...  NaN  NaN  NaN      NaN       NaN       NaN  NaN  NaN  NaN   0.415  \n",
      "12290  ...  NaN  NaN  NaN      NaN       NaN       NaN  NaN  NaN  NaN   0.428  \n",
      "12291  ...  NaN  NaN  NaN      NaN       NaN       NaN  NaN  NaN  NaN   0.488  \n",
      "12292  ...  NaN  NaN  NaN      NaN       NaN       NaN  NaN  NaN  NaN   0.498  \n",
      "12293  ...  NaN  NaN  NaN      NaN       NaN       NaN  NaN  NaN  NaN   0.546  \n",
      "\n",
      "[12284 rows x 53 columns]\n"
     ]
    }
   ],
   "source": [
    "# Add the rating column to the vectorized features\n",
    "features_vectors = pd.concat([pd.DataFrame(genre_type_vectors.toarray()), df[['rating']]], axis=1)\n",
    "print(features_vectors)"
   ]
  },
  {
   "cell_type": "code",
   "execution_count": 21,
   "id": "ef81116d-b7c6-49ed-a8e7-74fd2eaffd18",
   "metadata": {},
   "outputs": [],
   "source": [
    "import numpy as np\n",
    "\n",
    "# Get the shape of the features_vectors array\n",
    "num_samples, num_features = features_vectors.shape\n",
    "\n",
    "# Define the test size (e.g., 20% of the data)\n",
    "test_size = 0.2\n",
    "\n",
    "# Calculate the number of test samples\n",
    "num_test_samples = int(num_samples * test_size)\n",
    "\n",
    "# Split the data into training and testing sets\n",
    "train_features = features_vectors[:-num_test_samples]\n",
    "test_features = features_vectors[-num_test_samples:]\n",
    "\n",
    "train_labels = df['rating'].iloc[:-num_test_samples]\n",
    "test_labels = df['rating'].iloc[-num_test_samples:]"
   ]
  },
  {
   "cell_type": "code",
   "execution_count": 22,
   "id": "d4500dc3-d199-4f4f-9f07-233c2effecab",
   "metadata": {},
   "outputs": [
    {
     "name": "stdout",
     "output_type": "stream",
     "text": [
      "Training Features Shape: (9400, 53)\n"
     ]
    }
   ],
   "source": [
    "print(\"Training Features Shape:\", train_features.shape)"
   ]
  },
  {
   "cell_type": "code",
   "execution_count": 23,
   "id": "3215d052-843e-4eb7-9185-11ff6228d994",
   "metadata": {},
   "outputs": [
    {
     "name": "stdout",
     "output_type": "stream",
     "text": [
      "Testing Features Shape: (2350, 53)\n",
      "Training Labels Shape: (9667,)\n",
      "Testing Labels Shape: (2350,)\n"
     ]
    }
   ],
   "source": [
    "print(\"Testing Features Shape:\", test_features.shape)\n",
    "print(\"Training Labels Shape:\", train_labels.shape)\n",
    "print(\"Testing Labels Shape:\", test_labels.shape)"
   ]
  },
  {
   "cell_type": "code",
   "execution_count": 26,
   "id": "6838e254-0356-4a54-8bbb-385016bcdbdd",
   "metadata": {},
   "outputs": [
    {
     "name": "stdout",
     "output_type": "stream",
     "text": [
      "Training Features:\n",
      "             0         1    2    3    4         5    6    7         8    9  \\\n",
      "0     0.00000  0.000000  0.0  0.0  0.0  0.000000  0.0  0.0  0.405026  0.0   \n",
      "1     0.28540  0.306009  0.0  0.0  0.0  0.000000  0.0  0.0  0.324302  0.0   \n",
      "2     0.24559  0.000000  0.0  0.0  0.0  0.195601  0.0  0.0  0.000000  0.0   \n",
      "3     0.00000  0.000000  0.0  0.0  0.0  0.000000  0.0  0.0  0.000000  0.0   \n",
      "4     0.24559  0.000000  0.0  0.0  0.0  0.195601  0.0  0.0  0.000000  0.0   \n",
      "...       ...       ...  ...  ...  ...       ...  ...  ...       ...  ...   \n",
      "9395  0.00000  0.526659  0.0  0.0  0.0  0.391209  0.0  0.0  0.000000  0.0   \n",
      "9396  0.00000  0.487885  0.0  0.0  0.0  0.362407  0.0  0.0  0.000000  0.0   \n",
      "9397  0.00000  0.483826  0.0  0.0  0.0  0.359392  0.0  0.0  0.000000  0.0   \n",
      "9398  0.00000  0.579018  0.0  0.0  0.0  0.000000  0.0  0.0  0.000000  0.0   \n",
      "9399  0.00000  0.572267  0.0  0.0  0.0  0.000000  0.0  0.0  0.000000  0.0   \n",
      "\n",
      "      ...   43   44   45       46        47        48   49   50   51  rating  \n",
      "0     ...  0.0  0.0  0.0  0.50325  0.000000  0.000000  0.0  0.0  0.0   0.937  \n",
      "1     ...  0.0  0.0  0.0  0.00000  0.000000  0.252854  0.0  0.0  0.0   0.926  \n",
      "2     ...  0.0  0.0  0.0  0.00000  0.000000  0.217584  0.0  0.0  0.0   0.925  \n",
      "3     ...  0.0  0.0  0.0  0.00000  0.797012  0.293958  0.0  0.0  0.0   0.917  \n",
      "4     ...  0.0  0.0  0.0  0.00000  0.000000  0.217584  0.0  0.0  0.0   0.916  \n",
      "...   ...  ...  ...  ...      ...       ...       ...  ...  ...  ...     ...  \n",
      "9395  ...  0.0  0.0  0.0  0.00000  0.000000  0.000000  0.0  0.0  0.0   0.600  \n",
      "9396  ...  0.0  0.0  0.0  0.00000  0.000000  0.403137  0.0  0.0  0.0   0.600  \n",
      "9397  ...  0.0  0.0  0.0  0.00000  0.000000  0.000000  0.0  0.0  0.0   0.505  \n",
      "9398  ...  0.0  0.0  0.0  0.00000  0.000000  0.478440  0.0  0.0  0.0   0.500  \n",
      "9399  ...  0.0  0.0  0.0  0.00000  0.000000  0.000000  0.0  0.0  0.0   0.509  \n",
      "\n",
      "[9400 rows x 53 columns]\n",
      "Testing Features:\n",
      "          0    1    2    3    4         5    6    7         8    9  ...   43  \\\n",
      "9400   0.0  0.0  0.0  0.0  0.0  0.252486  0.0  0.0  0.000000  0.0  ...  0.0   \n",
      "9401   0.0  0.0  0.0  0.0  0.0  0.000000  0.0  0.0  0.000000  0.0  ...  0.0   \n",
      "9402   0.0  0.0  0.0  0.0  0.0  0.000000  0.0  0.0  0.000000  0.0  ...  0.0   \n",
      "9403   0.0  0.0  0.0  0.0  0.0  0.000000  0.0  0.0  0.521449  0.0  ...  0.0   \n",
      "9404   0.0  0.0  0.0  0.0  0.0  0.415172  0.0  0.0  0.000000  0.0  ...  0.0   \n",
      "...    ...  ...  ...  ...  ...       ...  ...  ...       ...  ...  ...  ...   \n",
      "11745  0.0  0.0  0.0  0.0  0.0  0.000000  0.0  0.0  0.000000  0.0  ...  0.0   \n",
      "11746  0.0  0.0  0.0  0.0  0.0  0.000000  0.0  0.0  0.000000  0.0  ...  0.0   \n",
      "11747  0.0  0.0  0.0  0.0  0.0  0.000000  0.0  0.0  0.000000  0.0  ...  0.0   \n",
      "11748  0.0  0.0  0.0  0.0  0.0  0.000000  0.0  0.0  0.000000  0.0  ...  0.0   \n",
      "11749  0.0  0.0  0.0  0.0  0.0  0.000000  0.0  0.0  0.000000  0.0  ...  0.0   \n",
      "\n",
      "        44   45   46   47        48   49   50   51  rating  \n",
      "9400   0.0  0.0  0.0  0.0  0.000000  0.0  0.0  0.0   0.606  \n",
      "9401   0.0  0.0  0.0  0.0  0.507652  0.0  0.0  0.0   0.771  \n",
      "9402   0.0  0.0  0.0  0.0  0.507652  0.0  0.0  0.0   0.617  \n",
      "9403   0.0  0.0  0.0  0.0  0.406566  0.0  0.0  0.0   0.379  \n",
      "9404   0.0  0.0  0.0  0.0  0.461833  0.0  0.0  0.0   0.545  \n",
      "...    ...  ...  ...  ...       ...  ...  ...  ...     ...  \n",
      "11745  0.0  0.0  0.0  0.0  0.000000  0.0  0.0  0.0   0.573  \n",
      "11746  0.0  0.0  0.0  0.0  0.000000  0.0  0.0  0.0   0.573  \n",
      "11747  0.0  0.0  0.0  0.0  0.000000  0.0  0.0  0.0   0.572  \n",
      "11748  0.0  0.0  0.0  0.0  0.000000  0.0  0.0  0.0   0.572  \n",
      "11749  0.0  0.0  0.0  0.0  0.000000  0.0  0.0  0.0   0.572  \n",
      "\n",
      "[2350 rows x 53 columns]\n",
      "Training Labels:\n",
      " 0       0.937\n",
      "1       0.926\n",
      "2       0.925\n",
      "3       0.917\n",
      "4       0.916\n",
      "        ...  \n",
      "9702    0.588\n",
      "9703    0.500\n",
      "9704    0.550\n",
      "9705    0.656\n",
      "9706    0.641\n",
      "Name: rating, Length: 9667, dtype: float64\n",
      "Testing Labels:\n",
      " 9707     0.583\n",
      "9708     0.629\n",
      "9709     0.700\n",
      "9710     0.575\n",
      "9711     0.607\n",
      "         ...  \n",
      "12289      NaN\n",
      "12290      NaN\n",
      "12291      NaN\n",
      "12292      NaN\n",
      "12293      NaN\n",
      "Name: rating, Length: 2350, dtype: float64\n"
     ]
    }
   ],
   "source": [
    "print(\"Training Features:\\n\", train_features)\n",
    "print(\"Testing Features:\\n\", test_features)\n",
    "print(\"Training Labels:\\n\", train_labels)\n",
    "print(\"Testing Labels:\\n\", test_labels)"
   ]
  },
  {
   "cell_type": "code",
   "execution_count": 27,
   "id": "0febf7e9-c067-4fe3-848e-8880118e828f",
   "metadata": {},
   "outputs": [],
   "source": [
    "\n",
    "# Define a function to compute cosine similarity\n",
    "def compute_cosine_similarity(features):\n",
    "    similarity = cosine_similarity(features)\n",
    "    return similarity\n"
   ]
  },
  {
   "cell_type": "code",
   "execution_count": 29,
   "id": "dcf57ce6-092d-434d-9b20-b79f2dd0dad3",
   "metadata": {},
   "outputs": [
    {
     "name": "stdout",
     "output_type": "stream",
     "text": [
      "[[1.         0.5348909  0.46429286 ... 0.33948911 0.33948911 0.49153054]\n",
      " [0.5348909  1.         0.58193489 ... 0.33734932 0.33734932 0.33734932]\n",
      " [0.46429286 0.58193489 1.         ... 0.33715304 0.33715304 0.33715304]\n",
      " ...\n",
      " [0.33948911 0.33734932 0.33715304 ... 1.         1.         0.73349897]\n",
      " [0.33948911 0.33734932 0.33715304 ... 1.         1.         0.73349897]\n",
      " [0.49153054 0.33734932 0.33715304 ... 0.73349897 0.73349897 1.        ]]\n"
     ]
    }
   ],
   "source": [
    "# Compute the cosine similarity between the features\n",
    "similarity = compute_cosine_similarity(features_vectors)\n",
    "\n",
    "# Print the similarity matrix\n",
    "print(similarity)"
   ]
  },
  {
   "cell_type": "code",
   "execution_count": 30,
   "id": "1c3dfbb4-6979-4cca-88d3-b9cd57a717eb",
   "metadata": {},
   "outputs": [
    {
     "name": "stdout",
     "output_type": "stream",
     "text": [
      "[[1.         0.5348909  0.46429286 ... 0.33948911 0.33948911 0.49153054]\n",
      " [0.5348909  1.         0.58193489 ... 0.33734932 0.33734932 0.33734932]\n",
      " [0.46429286 0.58193489 1.         ... 0.33715304 0.33715304 0.33715304]\n",
      " ...\n",
      " [0.33948911 0.33734932 0.33715304 ... 1.         1.         0.73349897]\n",
      " [0.33948911 0.33734932 0.33715304 ... 1.         1.         0.73349897]\n",
      " [0.49153054 0.33734932 0.33715304 ... 0.73349897 0.73349897 1.        ]]\n"
     ]
    }
   ],
   "source": [
    "similarity = compute_cosine_similarity(features_vectors)\n",
    "print(similarity)"
   ]
  },
  {
   "cell_type": "code",
   "execution_count": 34,
   "id": "554cabcd-8731-4fc7-ba3f-fa25131d21de",
   "metadata": {},
   "outputs": [],
   "source": [
    "num_recommendations = 10\n",
    "top_indices = similarity.argsort()[-num_recommendations-1:-1]"
   ]
  },
  {
   "cell_type": "code",
   "execution_count": 36,
   "id": "4283f983-5883-4d30-bb1e-98d922c696d2",
   "metadata": {},
   "outputs": [
    {
     "name": "stdout",
     "output_type": "stream",
     "text": [
      "[[ 8037  8036 10045 ... 11740 11741 11739]\n",
      " [ 8037  8036 10045 ... 11740 11741 11739]\n",
      " [ 8037  8036 10045 ... 11740 11741 11739]\n",
      " ...\n",
      " [ 8037  8036 10045 ... 11744 11745 11746]\n",
      " [ 8037  8036 10045 ... 11746 11748 11747]\n",
      " [ 8037  8036 10045 ... 11746 11748 11747]]\n"
     ]
    }
   ],
   "source": [
    "num_recommendations = 10\n",
    "top_indices = similarity.argsort()[-num_recommendations-1:-1]\n",
    "print(top_indices)"
   ]
  },
  {
   "cell_type": "code",
   "execution_count": 39,
   "id": "9a58c767-424c-49f1-b6ef-7b1974c09f9d",
   "metadata": {},
   "outputs": [],
   "source": [
    "def get_top_ids(df, similarity, top_indices):\n",
    "    return df['id'].iloc[top_indices]"
   ]
  },
  {
   "cell_type": "code",
   "execution_count": 47,
   "id": "74ddbccc-484d-46cd-988b-05ad45aa8c41",
   "metadata": {},
   "outputs": [],
   "source": [
    "def get_top_ids(df, similarity, top_indices):\n",
    "    return df.iloc[:, 0].iloc[top_indices]\n",
    "# Or, more simply:\n",
    "def get_top_ids(df, similarity, top_indices):\n",
    "    return df.iloc[top_indices, 0]"
   ]
  },
  {
   "cell_type": "code",
   "execution_count": 52,
   "id": "16c047dc-849e-4a40-a35d-d1a22ebe61e2",
   "metadata": {},
   "outputs": [
    {
     "name": "stdout",
     "output_type": "stream",
     "text": [
      "Top IDs: 8058      3287\n",
      "8057     13405\n",
      "10087    14781\n",
      "8289     33863\n",
      "9854     29435\n",
      "         ...  \n",
      "12011     3526\n",
      "12012     6015\n",
      "12013     2374\n",
      "12015     2479\n",
      "12014     3040\n",
      "Name: anime_id, Length: 117500, dtype: int64\n"
     ]
    }
   ],
   "source": [
    "# Return the IDs of the recommended anime\n",
    "def get_top_ids(df, similarity, top_indices):\n",
    "    top_indices = top_indices.flatten()  # flatten the array\n",
    "    return df.iloc[top_indices, 0]\n",
    "\n",
    "top_ids = get_top_ids(df, similarity, top_indices)\n",
    "print(\"Top IDs:\", top_ids)\n"
   ]
  },
  {
   "cell_type": "code",
   "execution_count": 54,
   "id": "69589cf1-837b-4102-b1fd-5d484c83867b",
   "metadata": {},
   "outputs": [
    {
     "name": "stdout",
     "output_type": "stream",
     "text": [
      "[1, 2, 3, 4, 5]\n"
     ]
    }
   ],
   "source": [
    "# Test the recommendation function\n",
    "def recommend_anime(target_anime_id, num_recommendations):\n",
    "    # Your recommendation logic goes here\n",
    "    # For example:\n",
    "    recommended_anime_ids = [1, 2, 3, 4, 5]  # Replace with your actual recommendation logic\n",
    "    return recommended_anime_ids\n",
    "\n",
    "target_anime_id = 123  # Replace with a valid anime ID\n",
    "num_recommendations = 5\n",
    "recommended_anime_ids = recommend_anime(target_anime_id, num_recommendations)\n",
    "print(recommended_anime_ids)"
   ]
  },
  {
   "cell_type": "code",
   "execution_count": 55,
   "id": "f1712d0c-04bd-40b4-8b1c-4c58cd2f3b05",
   "metadata": {},
   "outputs": [],
   "source": [
    "# Evaluate the recommendation system using precision, recall, and F1-score\n",
    "def evaluate_recommendation_system(recommended_anime_ids, actual_anime_ids):\n",
    "    precision = precision_score(actual_anime_ids, recommended_anime_ids)\n",
    "    recall = recall_score(actual_anime_ids, recommended_anime_ids)\n",
    "    f1 = f1_score(actual_anime_ids, recommended_anime_ids)\n",
    "    return precision, recall, f1"
   ]
  },
  {
   "cell_type": "code",
   "execution_count": 56,
   "id": "f03a6643-2173-42fd-b607-8f667ef6ddbf",
   "metadata": {},
   "outputs": [],
   "source": [
    "from sklearn.metrics import precision_score, recall_score, f1_score\n",
    "\n",
    "# Evaluate the recommendation system using precision, recall, and F1-score\n",
    "def evaluate_recommendation_system(recommended_anime_ids, actual_anime_ids):\n",
    "    precision = precision_score(actual_anime_ids, recommended_anime_ids, average='macro')\n",
    "    recall = recall_score(actual_anime_ids, recommended_anime_ids, average='macro')\n",
    "    f1 = f1_score(actual_anime_ids, recommended_anime_ids, average='macro')\n",
    "    return precision, recall, f1"
   ]
  },
  {
   "cell_type": "code",
   "execution_count": 58,
   "id": "a58e22c5-baca-4df2-b06e-75a1555c5084",
   "metadata": {},
   "outputs": [
    {
     "name": "stdout",
     "output_type": "stream",
     "text": [
      "Precision: 0.42857142857142855\n",
      "Recall: 0.42857142857142855\n",
      "F1-score: 0.42857142857142855\n"
     ]
    },
    {
     "name": "stderr",
     "output_type": "stream",
     "text": [
      "C:\\ProgramData\\anaconda3\\Lib\\site-packages\\sklearn\\metrics\\_classification.py:1509: UndefinedMetricWarning: Precision is ill-defined and being set to 0.0 in labels with no predicted samples. Use `zero_division` parameter to control this behavior.\n",
      "  _warn_prf(average, modifier, f\"{metric.capitalize()} is\", len(result))\n",
      "C:\\ProgramData\\anaconda3\\Lib\\site-packages\\sklearn\\metrics\\_classification.py:1509: UndefinedMetricWarning: Recall is ill-defined and being set to 0.0 in labels with no true samples. Use `zero_division` parameter to control this behavior.\n",
      "  _warn_prf(average, modifier, f\"{metric.capitalize()} is\", len(result))\n"
     ]
    }
   ],
   "source": [
    "recommended_anime_ids = [1, 2, 3, 4, 5]\n",
    "actual_anime_ids = [1, 2, 3, 6, 7]\n",
    "\n",
    "precision, recall, f1 = evaluate_recommendation_system(recommended_anime_ids, actual_anime_ids)\n",
    "print(\"Precision:\", precision)\n",
    "print(\"Recall:\", recall)\n",
    "print(\"F1-score:\",f1)"
   ]
  },
  {
   "cell_type": "code",
   "execution_count": 60,
   "id": "0b0c5130-e767-4130-b26f-be7cc30260ad",
   "metadata": {},
   "outputs": [],
   "source": [
    "# Test the evaluation function\n",
    "actual_anime_ids = df['anime_id'].iloc[:num_recommendations]"
   ]
  },
  {
   "cell_type": "code",
   "execution_count": 61,
   "id": "58d43f40-5258-4894-9c59-8fe06824ca4c",
   "metadata": {},
   "outputs": [
    {
     "name": "stdout",
     "output_type": "stream",
     "text": [
      "Recommended anime IDs: 0    32281\n",
      "1     5114\n",
      "2    28977\n",
      "3     9253\n",
      "4     9969\n",
      "Name: anime_id, dtype: int64\n",
      "Actual anime IDs: 0    32281\n",
      "1     5114\n",
      "2    28977\n",
      "3     9253\n",
      "4     9969\n",
      "Name: anime_id, dtype: int64\n",
      "Precision: 1.0\n",
      "Recall: 1.0\n",
      "F1-score: 1.0\n"
     ]
    }
   ],
   "source": [
    "recommended_anime_ids = df.iloc[:, 0].iloc[:num_recommendations]\n",
    "actual_anime_ids = df.iloc[:, 0].iloc[:num_recommendations]\n",
    "\n",
    "print(\"Recommended anime IDs:\", recommended_anime_ids)\n",
    "print(\"Actual anime IDs:\", actual_anime_ids)\n",
    "\n",
    "precision, recall, f1 = evaluate_recommendation_system(recommended_anime_ids, actual_anime_ids)\n",
    "\n",
    "print(\"Precision:\", precision)\n",
    "print(\"Recall:\", recall)\n",
    "print(\"F1-score:\", f1)"
   ]
  },
  {
   "cell_type": "code",
   "execution_count": null,
   "id": "5d8af585-16fa-4e31-90d1-d83c2c5bc582",
   "metadata": {},
   "outputs": [],
   "source": [
    "Interview questions\n",
    "\n",
    "1.Can you explain the difference between user-based and item-based collaborative filtering?\n",
    "\n",
    "User-based collaborative filtering (UBCF) and item-based collaborative filtering (IBCF) are two approaches used in recommender systems.\n",
    "\n",
    "User-Based Collaborative Filtering (UBCF)\n",
    "\n",
    "- UBCF focuses on finding similar users to the active user.\n",
    "- It calculates the similarity between users based on their past behavior (e.g., ratings, purchases).\n",
    "- Once similar users are identified, the system recommends items that these similar users have liked or rated highly.\n",
    "\n",
    "Item-Based Collaborative Filtering (IBCF)\n",
    "\n",
    "- IBCF focuses on finding similar items to the ones the active user has liked or interacted with.\n",
    "- It calculates the similarity between items based on their past interactions with users (e.g., ratings, purchases).\n",
    "- Once similar items are identified, the system recommends these items to the active user.\n",
    "\n",
    "Key Differences\n",
    "\n",
    "- Focus: UBCF focuses on users, while IBCF focuses on items.\n",
    "- Similarity Calculation: UBCF calculates similarity between users, while IBCF calculates similarity between items.\n",
    "- Recommendation Approach: UBCF recommends items liked by similar users, while IBCF recommends items similar to the ones the user has liked.\n",
    "    \n",
    "2.What is collaborative filtering, and how does it work?\n",
    "\n",
    "Collaborative filtering (CF) is a technique used in recommender systems to predict the interests of a user by collecting preferences from many users (collaborating). The underlying assumption of CF is that if a person A has the same opinion as a person B on an issue, A is more likely to have B's opinion on a different issue.\n",
    "\n",
    "How Collaborative Filtering Works\n",
    "\n",
    "1. Data Collection: Gather user-item interaction data (e.g., ratings, clicks, purchases).\n",
    "2. Matrix Construction: Create a user-item interaction matrix, where rows represent users, columns represent items, and cell values represent the interaction (e.g., rating).\n",
    "3. Similarity Calculation: Calculate the similarity between users (UBCF) or items (IBCF) using metrics such as cosine similarity, Pearson correlation, or Jaccard similarity.\n",
    "4. Neighborhood Formation: Identify the most similar users (UBCF) or items (IBCF) to the active user or item.\n",
    "5. Prediction: Generate predictions for the active user by aggregating the preferences of similar users (UBCF) or the attributes of similar items (IBCF).\n",
    "6. Recommendation: Provide personalized recommendations to the user based on the predicted preferences.\n",
    "\n",
    "Collaborative filtering is a powerful technique for building recommender systems, as it can effectively capture complex user preferences and item relationships."
   ]
  }
 ],
 "metadata": {
  "kernelspec": {
   "display_name": "Python 3 (ipykernel)",
   "language": "python",
   "name": "python3"
  },
  "language_info": {
   "codemirror_mode": {
    "name": "ipython",
    "version": 3
   },
   "file_extension": ".py",
   "mimetype": "text/x-python",
   "name": "python",
   "nbconvert_exporter": "python",
   "pygments_lexer": "ipython3",
   "version": "3.12.4"
  }
 },
 "nbformat": 4,
 "nbformat_minor": 5
}
