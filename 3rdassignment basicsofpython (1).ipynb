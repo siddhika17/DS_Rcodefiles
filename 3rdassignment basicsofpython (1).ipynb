{
 "cells": [
  {
   "cell_type": "code",
   "execution_count": 1,
   "id": "6f0abe36-9ce3-4c01-a80f-f393225b5eb3",
   "metadata": {},
   "outputs": [],
   "source": [
    "import numpy as np\n",
    "from scipy import stats"
   ]
  },
  {
   "cell_type": "code",
   "execution_count": 2,
   "id": "d0055017-b185-406c-8f51-1a9bbb37c67f",
   "metadata": {},
   "outputs": [],
   "source": [
    "# Given data\n",
    "durability = np.array([1.13, 1.55, 1.43, 0.92, 1.25, 1.36, 1.32, 0.85, 1.07, 1.48, 1.20, 1.33, 1.18, 1.22, 1.29])\n",
    "\n"
   ]
  },
  {
   "cell_type": "code",
   "execution_count": 3,
   "id": "25c90241-8907-4165-b8b4-4178c7a47eb1",
   "metadata": {},
   "outputs": [],
   "source": [
    "# Task a: Build 99% Confidence Interval Using Sample Standard Deviation\n"
   ]
  },
  {
   "cell_type": "code",
   "execution_count": 4,
   "id": "1625b5a0-6e2d-4c98-aa03-d986c10d9853",
   "metadata": {},
   "outputs": [
    {
     "name": "stdout",
     "output_type": "stream",
     "text": [
      "Sample Mean: 1.2386666666666666\n"
     ]
    }
   ],
   "source": [
    "# Calculate sample mean\n",
    "sample_mean = np.mean(durability)\n",
    "print(\"Sample Mean:\", sample_mean)\n"
   ]
  },
  {
   "cell_type": "code",
   "execution_count": 5,
   "id": "844a5d75-b732-4b99-bf1e-4c7106ab3e83",
   "metadata": {},
   "outputs": [
    {
     "name": "stdout",
     "output_type": "stream",
     "text": [
      "Sample Standard Deviation: 0.19316412956959936\n"
     ]
    }
   ],
   "source": [
    "# Calculate sample standard deviation\n",
    "sample_std = np.std(durability, ddof=1)\n",
    "print(\"Sample Standard Deviation:\", sample_std)\n"
   ]
  },
  {
   "cell_type": "code",
   "execution_count": 6,
   "id": "9f3bcfbe-e893-4033-8bb5-7bfd6458d984",
   "metadata": {},
   "outputs": [
    {
     "name": "stdout",
     "output_type": "stream",
     "text": [
      "Critical t-value: 2.976842734370834\n"
     ]
    }
   ],
   "source": [
    "# Determine critical t-value\n",
    "degrees_of_freedom = len(durability) - 1\n",
    "critical_t = stats.t.ppf(0.995, degrees_of_freedom)\n",
    "print(\"Critical t-value:\", critical_t)\n"
   ]
  },
  {
   "cell_type": "code",
   "execution_count": 7,
   "id": "a2f333ab-86e9-4ee9-b0ff-34409ca5453a",
   "metadata": {},
   "outputs": [
    {
     "name": "stdout",
     "output_type": "stream",
     "text": [
      "Margin of Error: 0.14846932822817596\n"
     ]
    }
   ],
   "source": [
    "# Calculate margin of error\n",
    "margin_of_error = critical_t * (sample_std / np.sqrt(len(durability)))\n",
    "print(\"Margin of Error:\", margin_of_error)\n",
    "\n"
   ]
  },
  {
   "cell_type": "code",
   "execution_count": 8,
   "id": "dddb6817-c2c5-441c-a5be-0656cae400e1",
   "metadata": {},
   "outputs": [
    {
     "name": "stdout",
     "output_type": "stream",
     "text": [
      "99% Confidence Interval (Sample Standard Deviation): (1.0901973384384906, 1.3871359948948425)\n"
     ]
    }
   ],
   "source": [
    "# Construct confidence interval\n",
    "confidence_interval_a = (sample_mean - margin_of_error, sample_mean + margin_of_error)\n",
    "print(\"99% Confidence Interval (Sample Standard Deviation):\", confidence_interval_a)\n",
    "\n"
   ]
  },
  {
   "cell_type": "code",
   "execution_count": 9,
   "id": "22cab35d-3aed-41c1-a6ca-9bd4f96ea656",
   "metadata": {},
   "outputs": [],
   "source": [
    "# Task b: Build 99% Confidence Interval Using Known Population Standard Deviation\n",
    "\n"
   ]
  },
  {
   "cell_type": "code",
   "execution_count": 10,
   "id": "62d96081-ad31-4ef6-b2a9-1cc2d57af2a0",
   "metadata": {},
   "outputs": [],
   "source": [
    "# Given population standard deviation\n",
    "population_std = 0.2\n"
   ]
  },
  {
   "cell_type": "code",
   "execution_count": 11,
   "id": "8693ae36-e37e-4efb-81be-969faa221c89",
   "metadata": {},
   "outputs": [
    {
     "name": "stdout",
     "output_type": "stream",
     "text": [
      "Critical z-value: 2.5758293035489004\n"
     ]
    }
   ],
   "source": [
    "\n",
    "# Determine critical z-value\n",
    "critical_z = stats.norm.ppf(0.995)\n",
    "print(\"Critical z-value:\", critical_z)\n"
   ]
  },
  {
   "cell_type": "code",
   "execution_count": 12,
   "id": "a942cb1b-0567-4d93-abbb-0a3bbec370ad",
   "metadata": {},
   "outputs": [
    {
     "name": "stdout",
     "output_type": "stream",
     "text": [
      "Margin of Error: 0.13301525327090588\n"
     ]
    }
   ],
   "source": [
    "# Calculate margin of error\n",
    "margin_of_error = critical_z * (population_std / np.sqrt(len(durability)))\n",
    "print(\"Margin of Error:\", margin_of_error)\n",
    "\n"
   ]
  },
  {
   "cell_type": "code",
   "execution_count": 13,
   "id": "b6a4e620-47ef-40cb-a060-1175f56f1b47",
   "metadata": {},
   "outputs": [
    {
     "name": "stdout",
     "output_type": "stream",
     "text": [
      "99% Confidence Interval (Known Population Standard Deviation): (1.1056514133957607, 1.3716819199375725)\n"
     ]
    }
   ],
   "source": [
    "# Construct confidence interval\n",
    "confidence_interval_b = (sample_mean - margin_of_error, sample_mean + margin_of_error)\n",
    "print(\"99% Confidence Interval (Known Population Standard Deviation):\", confidence_interval_b)\n",
    "\n"
   ]
  },
  {
   "cell_type": "code",
   "execution_count": null,
   "id": "5c4489a3-8b47-4902-b32e-d48fd87fbc4a",
   "metadata": {},
   "outputs": [],
   "source": []
  }
 ],
 "metadata": {
  "kernelspec": {
   "display_name": "Python 3 (ipykernel)",
   "language": "python",
   "name": "python3"
  },
  "language_info": {
   "codemirror_mode": {
    "name": "ipython",
    "version": 3
   },
   "file_extension": ".py",
   "mimetype": "text/x-python",
   "name": "python",
   "nbconvert_exporter": "python",
   "pygments_lexer": "ipython3",
   "version": "3.12.4"
  }
 },
 "nbformat": 4,
 "nbformat_minor": 5
}
